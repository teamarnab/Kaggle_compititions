{
 "cells": [
  {
   "cell_type": "code",
   "execution_count": 1,
   "id": "9b3764d5",
   "metadata": {
    "_cell_guid": "b1076dfc-b9ad-4769-8c92-a6c4dae69d19",
    "_uuid": "8f2839f25d086af736a60e9eeb907d3b93b6e0e5",
    "execution": {
     "iopub.execute_input": "2025-02-06T02:37:44.050938Z",
     "iopub.status.busy": "2025-02-06T02:37:44.050496Z",
     "iopub.status.idle": "2025-02-06T02:37:47.713075Z",
     "shell.execute_reply": "2025-02-06T02:37:47.711797Z"
    },
    "papermill": {
     "duration": 3.675057,
     "end_time": "2025-02-06T02:37:47.715049",
     "exception": false,
     "start_time": "2025-02-06T02:37:44.039992",
     "status": "completed"
    },
    "tags": []
   },
   "outputs": [],
   "source": [
    "# Importing dependencies\n",
    "\n",
    "import numpy as np\n",
    "import pandas as pd\n",
    "import matplotlib.pyplot as plt\n",
    "import seaborn as sns\n",
    "import warnings\n",
    "warnings.filterwarnings('ignore')\n",
    "from imblearn.under_sampling import RandomUnderSampler\n",
    "from sklearn.model_selection import train_test_split\n",
    "from sklearn.preprocessing import StandardScaler\n",
    "from sklearn.ensemble import RandomForestClassifier\n",
    "from sklearn.metrics import accuracy_score, precision_score, recall_score, f1_score"
   ]
  },
  {
   "cell_type": "markdown",
   "id": "ca260ef7",
   "metadata": {
    "papermill": {
     "duration": 0.008337,
     "end_time": "2025-02-06T02:37:47.732720",
     "exception": false,
     "start_time": "2025-02-06T02:37:47.724383",
     "status": "completed"
    },
    "tags": []
   },
   "source": [
    "### ***Research based on Chat-GPT data***\n",
    "\n",
    "### Useful columns from given dataseta that can help in Sepsis prediction:\n",
    "\n",
    "1. Demographics (person_demographics_episode.csv)\n",
    "Useful columns:\n",
    "  1. age_in_months – Sepsis risk varies by age (infants & elderly are more vulnerable).\n",
    "  2. gender – Some studies suggest gender may influence sepsis outcomes.\n",
    "\n",
    "\n",
    "2. Lab & Vital Signs (measurement_lab.csv, measurement_meds.csv, measurement_observation.csv)\n",
    "[**--Highly Relevant for Sepsis Prediction--**]\n",
    "Useful columns\n",
    "\n",
    "**Inflammatory Markers-\n",
    "  1. C reactive protein [Mass/volume] in Serum or Plasma.\n",
    "  2. Interleukin 6 [Mass/volume] in Body fluid.\n",
    "  3. Procalcitonin [Mass/volume] in Serum or Plasma.\n",
    "  4. Organ Dysfunction Indicators.\n",
    "  5. Creatinine [Mass/volume] in Blood (Kidney function).\n",
    "  6. Bilirubin.total [Moles/volume] in Serum or Plasma (Liver function).\n",
    "  7. Lactate [Moles/volume] in Blood (Tissue oxygenation).\n",
    "  8. Blood Gas & Electrolytes (Shock Indicators).\n",
    "  9. Base excess in Arterial blood.\n",
    "  10. Bicarbonate [Moles/volume] in Arterial/Venous blood.\n",
    "  11. Carbon dioxide [Partial pressure] in Arterial/Venous blood.\n",
    "  12. Oxygen [Partial pressure] in Arterial/Venous blood.\n",
    "  13. Blood arterial pH, Blood venous pH.\n",
    "  14. Coagulation & Blood Counts (Sepsis-related Clotting Issues).\n",
    "  15. Platelet count.\n",
    "  16. Prothrombin time (PT).\n",
    "  17. Partial thromboplastin time, activated.\n",
    "  18. D-dimer level.\n",
    "  19. Fibrinogen measurement.\n",
    "  20. Total white blood count.\n",
    "  21. Vital Signs (Sepsis Symptoms).\n",
    "  22. Systolic blood pressure, Diastolic blood pressure (Sepsis often leads to hypotension).\n",
    "  23. Body temperature (Fever or hypothermia are key symptoms).\n",
    "  24. Respiratory rate (Sepsis often causes rapid breathing).\n",
    "  25. Heart rate (Tachycardia is common).\n",
    "  26. Measurement of oxygen saturation at periphery (Low oxygen saturation is concerning)."
   ]
  },
  {
   "cell_type": "markdown",
   "id": "fdfcf048",
   "metadata": {
    "papermill": {
     "duration": 0.008165,
     "end_time": "2025-02-06T02:37:47.749328",
     "exception": false,
     "start_time": "2025-02-06T02:37:47.741163",
     "status": "completed"
    },
    "tags": []
   },
   "source": [
    "### Patients Demographics dataset"
   ]
  },
  {
   "cell_type": "code",
   "execution_count": 2,
   "id": "ca3391d4",
   "metadata": {
    "execution": {
     "iopub.execute_input": "2025-02-06T02:37:47.767906Z",
     "iopub.status.busy": "2025-02-06T02:37:47.767369Z",
     "iopub.status.idle": "2025-02-06T02:37:47.817358Z",
     "shell.execute_reply": "2025-02-06T02:37:47.816318Z"
    },
    "papermill": {
     "duration": 0.061256,
     "end_time": "2025-02-06T02:37:47.819141",
     "exception": false,
     "start_time": "2025-02-06T02:37:47.757885",
     "status": "completed"
    },
    "tags": []
   },
   "outputs": [
    {
     "data": {
      "text/plain": [
       "(2649, 3)"
      ]
     },
     "execution_count": 2,
     "metadata": {},
     "output_type": "execute_result"
    }
   ],
   "source": [
    "# Reading and formatting patients demographics train\n",
    "patient_demographics = pd.read_csv('/kaggle/input/phems-hackathon-early-sepsis-prediction/training_data/person_demographics_episode_train.csv')\n",
    "\n",
    "# Necessary columns from patients demographics\n",
    "patient_demographics = patient_demographics[['person_id', 'age_in_months', 'gender']]\n",
    "\n",
    "# Label encoding gender column\n",
    "patient_demographics['gender'] = patient_demographics['gender'].map({'MALE':0, 'FEMALE':1}).astype(np.int64)\n",
    "\n",
    "# Grouping by 'person_id'\n",
    "patient_demographics = patient_demographics.groupby('person_id').mean()\n",
    "\n",
    "# Ressting index\n",
    "patient_demographics = patient_demographics.reset_index()\n",
    "\n",
    "# Checing dataset shape\n",
    "patient_demographics.shape"
   ]
  },
  {
   "cell_type": "markdown",
   "id": "fd96a136",
   "metadata": {
    "papermill": {
     "duration": 0.008496,
     "end_time": "2025-02-06T02:37:47.836614",
     "exception": false,
     "start_time": "2025-02-06T02:37:47.828118",
     "status": "completed"
    },
    "tags": []
   },
   "source": [
    "### Lab Measurement dataset"
   ]
  },
  {
   "cell_type": "code",
   "execution_count": 3,
   "id": "a02af7e5",
   "metadata": {
    "execution": {
     "iopub.execute_input": "2025-02-06T02:37:47.855583Z",
     "iopub.status.busy": "2025-02-06T02:37:47.855221Z",
     "iopub.status.idle": "2025-02-06T02:37:48.215897Z",
     "shell.execute_reply": "2025-02-06T02:37:48.214890Z"
    },
    "papermill": {
     "duration": 0.372164,
     "end_time": "2025-02-06T02:37:48.217540",
     "exception": false,
     "start_time": "2025-02-06T02:37:47.845376",
     "status": "completed"
    },
    "tags": []
   },
   "outputs": [
    {
     "data": {
      "text/plain": [
       "(2497, 19)"
      ]
     },
     "execution_count": 3,
     "metadata": {},
     "output_type": "execute_result"
    }
   ],
   "source": [
    "# Reading and formatting patients lab measurements\n",
    "lab_measure_train = pd.read_csv('/kaggle/input/phems-hackathon-early-sepsis-prediction/training_data/measurement_lab_train.csv')\n",
    "\n",
    "\n",
    "# Necessary columns from lab measure\n",
    "necessary_columns = ['person_id',\n",
    "'C reactive protein [Mass/volume] in Serum or Plasma',\n",
    "'Interleukin 6 [Mass/volume] in Body fluid',\n",
    "'Procalcitonin [Mass/volume] in Serum or Plasma',\n",
    "'Bilirubin.total [Moles/volume] in Serum or Plasma',\n",
    "'Lactate [Moles/volume] in Blood',\n",
    "'Creatinine [Mass/volume] in Blood',\n",
    "'Base excess in Arterial blood by calculation',\n",
    "'Bicarbonate [Moles/volume] in Arterial blood',\n",
    "'Carbon dioxide [Partial pressure] in Venous blood',\n",
    "'Oxygen [Partial pressure] in Venous blood',\n",
    "'Blood arterial pH', 'Blood venous pH',\n",
    "'Platelet count', 'Prothrombin time (PT)',\n",
    "'Partial thromboplastin time',\n",
    "' activated', 'D-dimer level', 'Fibrinogen measurement',\n",
    "'Total white blood count'\n",
    "]\n",
    "\n",
    "# formatting with important cols\n",
    "lab_measure_train = lab_measure_train[necessary_columns]\n",
    "\n",
    "# Imputing null values\n",
    "lab_measure_train.fillna(lab_measure_train.mean(), inplace=True)\n",
    "\n",
    "# Groping by 'person_id'\n",
    "lab_measure_train = lab_measure_train.groupby('person_id').mean()\n",
    "\n",
    "# Checking dataset shape\n",
    "lab_measure_train.shape"
   ]
  },
  {
   "cell_type": "markdown",
   "id": "2add8cfb",
   "metadata": {
    "papermill": {
     "duration": 0.008981,
     "end_time": "2025-02-06T02:37:48.235817",
     "exception": false,
     "start_time": "2025-02-06T02:37:48.226836",
     "status": "completed"
    },
    "tags": []
   },
   "source": [
    "### Merge 1: Merging Patient demographics data with Lab measurement data on the basis of 'person_id' column."
   ]
  },
  {
   "cell_type": "code",
   "execution_count": 4,
   "id": "c3898774",
   "metadata": {
    "execution": {
     "iopub.execute_input": "2025-02-06T02:37:48.254804Z",
     "iopub.status.busy": "2025-02-06T02:37:48.254402Z",
     "iopub.status.idle": "2025-02-06T02:37:48.267765Z",
     "shell.execute_reply": "2025-02-06T02:37:48.266785Z"
    },
    "papermill": {
     "duration": 0.024541,
     "end_time": "2025-02-06T02:37:48.269362",
     "exception": false,
     "start_time": "2025-02-06T02:37:48.244821",
     "status": "completed"
    },
    "tags": []
   },
   "outputs": [
    {
     "data": {
      "text/plain": [
       "(2497, 22)"
      ]
     },
     "execution_count": 4,
     "metadata": {},
     "output_type": "execute_result"
    }
   ],
   "source": [
    "# Merging dataset into a main dataset\n",
    "main_data = patient_demographics.merge(lab_measure_train, on='person_id', how='inner')\n",
    "\n",
    "# Checking main dataset shape so far\n",
    "main_data.shape"
   ]
  },
  {
   "cell_type": "markdown",
   "id": "64eaf9ab",
   "metadata": {
    "papermill": {
     "duration": 0.008494,
     "end_time": "2025-02-06T02:37:48.286824",
     "exception": false,
     "start_time": "2025-02-06T02:37:48.278330",
     "status": "completed"
    },
    "tags": []
   },
   "source": [
    "### Meds Measurement dataset."
   ]
  },
  {
   "cell_type": "code",
   "execution_count": 5,
   "id": "b174b825",
   "metadata": {
    "execution": {
     "iopub.execute_input": "2025-02-06T02:37:48.307405Z",
     "iopub.status.busy": "2025-02-06T02:37:48.307053Z",
     "iopub.status.idle": "2025-02-06T02:37:48.810052Z",
     "shell.execute_reply": "2025-02-06T02:37:48.808645Z"
    },
    "papermill": {
     "duration": 0.516432,
     "end_time": "2025-02-06T02:37:48.812045",
     "exception": false,
     "start_time": "2025-02-06T02:37:48.295613",
     "status": "completed"
    },
    "tags": []
   },
   "outputs": [
    {
     "data": {
      "text/plain": [
       "(2556, 6)"
      ]
     },
     "execution_count": 5,
     "metadata": {},
     "output_type": "execute_result"
    }
   ],
   "source": [
    "# Reading Meds measurement train\n",
    "meds_measurement = pd.read_csv('/kaggle/input/phems-hackathon-early-sepsis-prediction/training_data/measurement_meds_train.csv')\n",
    "\n",
    "# Necessary columns from meds measure\n",
    "necessary_columns = ['person_id', 'Systolic blood pressure', 'Diastolic blood pressure', 'Body temperature','Respiratory rate', 'Heart rate', 'Measurement of oxygen saturation at periphery']\n",
    "\n",
    "# Dormatting with important cols\n",
    "meds_measurement = meds_measurement[necessary_columns]\n",
    "\n",
    "# Dropping null values\n",
    "meds_measurement = meds_measurement.fillna(meds_measurement.mean())\n",
    "\n",
    "# Groping by 'person_id'\n",
    "meds_measurement = meds_measurement.groupby('person_id').mean()\n",
    "\n",
    "# Checking dataset shape\n",
    "meds_measurement.shape"
   ]
  },
  {
   "cell_type": "markdown",
   "id": "e464fb19",
   "metadata": {
    "papermill": {
     "duration": 0.008691,
     "end_time": "2025-02-06T02:37:48.829902",
     "exception": false,
     "start_time": "2025-02-06T02:37:48.821211",
     "status": "completed"
    },
    "tags": []
   },
   "source": [
    "### Merge 2: Main data with Meds measurement on the basis of 'person_id' column."
   ]
  },
  {
   "cell_type": "code",
   "execution_count": 6,
   "id": "ea6e2ab7",
   "metadata": {
    "execution": {
     "iopub.execute_input": "2025-02-06T02:37:48.849628Z",
     "iopub.status.busy": "2025-02-06T02:37:48.849275Z",
     "iopub.status.idle": "2025-02-06T02:37:48.870215Z",
     "shell.execute_reply": "2025-02-06T02:37:48.869169Z"
    },
    "papermill": {
     "duration": 0.033334,
     "end_time": "2025-02-06T02:37:48.872255",
     "exception": false,
     "start_time": "2025-02-06T02:37:48.838921",
     "status": "completed"
    },
    "tags": []
   },
   "outputs": [],
   "source": [
    "# Merging main data with Meds measurement\n",
    "main_data = main_data.merge(meds_measurement, on='person_id', how='outer')\n",
    "\n",
    "# Imputing null values\n",
    "main_data.fillna(main_data.mean(), inplace=True)"
   ]
  },
  {
   "cell_type": "markdown",
   "id": "37d0d160",
   "metadata": {
    "papermill": {
     "duration": 0.008747,
     "end_time": "2025-02-06T02:37:48.890037",
     "exception": false,
     "start_time": "2025-02-06T02:37:48.881290",
     "status": "completed"
    },
    "tags": []
   },
   "source": [
    "### Sepsis label Datase."
   ]
  },
  {
   "cell_type": "code",
   "execution_count": 7,
   "id": "3b3afd25",
   "metadata": {
    "execution": {
     "iopub.execute_input": "2025-02-06T02:37:48.910149Z",
     "iopub.status.busy": "2025-02-06T02:37:48.909811Z",
     "iopub.status.idle": "2025-02-06T02:37:49.246479Z",
     "shell.execute_reply": "2025-02-06T02:37:49.245446Z"
    },
    "papermill": {
     "duration": 0.349003,
     "end_time": "2025-02-06T02:37:49.248347",
     "exception": false,
     "start_time": "2025-02-06T02:37:48.899344",
     "status": "completed"
    },
    "tags": []
   },
   "outputs": [
    {
     "data": {
      "text/html": [
       "<div>\n",
       "<style scoped>\n",
       "    .dataframe tbody tr th:only-of-type {\n",
       "        vertical-align: middle;\n",
       "    }\n",
       "\n",
       "    .dataframe tbody tr th {\n",
       "        vertical-align: top;\n",
       "    }\n",
       "\n",
       "    .dataframe thead th {\n",
       "        text-align: right;\n",
       "    }\n",
       "</style>\n",
       "<table border=\"1\" class=\"dataframe\">\n",
       "  <thead>\n",
       "    <tr style=\"text-align: right;\">\n",
       "      <th></th>\n",
       "      <th>person_id</th>\n",
       "      <th>measurement_datetime</th>\n",
       "      <th>SepsisLabel</th>\n",
       "    </tr>\n",
       "  </thead>\n",
       "  <tbody>\n",
       "    <tr>\n",
       "      <th>0</th>\n",
       "      <td>274096387</td>\n",
       "      <td>2024-12-03 20:00:00</td>\n",
       "      <td>0</td>\n",
       "    </tr>\n",
       "    <tr>\n",
       "      <th>1</th>\n",
       "      <td>1719359031</td>\n",
       "      <td>2024-04-20 09:00:00</td>\n",
       "      <td>0</td>\n",
       "    </tr>\n",
       "    <tr>\n",
       "      <th>2</th>\n",
       "      <td>2024544816</td>\n",
       "      <td>2021-07-14 07:00:00</td>\n",
       "      <td>0</td>\n",
       "    </tr>\n",
       "    <tr>\n",
       "      <th>3</th>\n",
       "      <td>213710896</td>\n",
       "      <td>2022-05-24 07:00:00</td>\n",
       "      <td>0</td>\n",
       "    </tr>\n",
       "    <tr>\n",
       "      <th>4</th>\n",
       "      <td>1335786468</td>\n",
       "      <td>2024-08-25 22:00:00</td>\n",
       "      <td>0</td>\n",
       "    </tr>\n",
       "  </tbody>\n",
       "</table>\n",
       "</div>"
      ],
      "text/plain": [
       "    person_id measurement_datetime  SepsisLabel\n",
       "0   274096387  2024-12-03 20:00:00            0\n",
       "1  1719359031  2024-04-20 09:00:00            0\n",
       "2  2024544816  2021-07-14 07:00:00            0\n",
       "3   213710896  2022-05-24 07:00:00            0\n",
       "4  1335786468  2024-08-25 22:00:00            0"
      ]
     },
     "execution_count": 7,
     "metadata": {},
     "output_type": "execute_result"
    }
   ],
   "source": [
    "# Reading and formatting Sepsis label data\n",
    "sepsis_label = pd.read_csv('/kaggle/input/phems-hackathon-early-sepsis-prediction/training_data/SepsisLabel_train.csv')\n",
    "sepsis_label.head()"
   ]
  },
  {
   "cell_type": "markdown",
   "id": "7f151ddb",
   "metadata": {
    "papermill": {
     "duration": 0.009621,
     "end_time": "2025-02-06T02:37:49.267730",
     "exception": false,
     "start_time": "2025-02-06T02:37:49.258109",
     "status": "completed"
    },
    "tags": []
   },
   "source": [
    "### Merge 3: Merging Main data with Sepsis label data on the basis of 'person_id' column."
   ]
  },
  {
   "cell_type": "code",
   "execution_count": 8,
   "id": "eeb4770d",
   "metadata": {
    "execution": {
     "iopub.execute_input": "2025-02-06T02:37:49.287985Z",
     "iopub.status.busy": "2025-02-06T02:37:49.287559Z",
     "iopub.status.idle": "2025-02-06T02:37:49.740857Z",
     "shell.execute_reply": "2025-02-06T02:37:49.739539Z"
    },
    "papermill": {
     "duration": 0.465249,
     "end_time": "2025-02-06T02:37:49.742779",
     "exception": false,
     "start_time": "2025-02-06T02:37:49.277530",
     "status": "completed"
    },
    "tags": []
   },
   "outputs": [
    {
     "data": {
      "text/plain": [
       "SepsisLabel\n",
       "0    324760\n",
       "1      6874\n",
       "Name: count, dtype: int64"
      ]
     },
     "execution_count": 8,
     "metadata": {},
     "output_type": "execute_result"
    }
   ],
   "source": [
    "# Merging main data formed so far with sepsis label data\n",
    "main_data = main_data.merge(sepsis_label, on='person_id', how='inner')\n",
    "\n",
    "# Converting 'measurement_datetime' columns to date-time datatype\n",
    "main_data['measurement_datetime'] = pd.to_datetime(main_data['measurement_datetime'])\n",
    "\n",
    "# Using forward fill to impute missing date values\n",
    "main_data['measurement_datetime'] = main_data['measurement_datetime'].ffill()\n",
    "\n",
    "# Dropping unnecessary columns\n",
    "main_data = main_data.drop(['person_id', 'measurement_datetime'], axis=1)\n",
    "\n",
    "# Resetting Index\n",
    "main_data = main_data.reset_index(drop=True)\n",
    "\n",
    "# Checking data distribution in label column\n",
    "main_data['SepsisLabel'].value_counts()"
   ]
  },
  {
   "cell_type": "markdown",
   "id": "23c6bc5c",
   "metadata": {
    "papermill": {
     "duration": 0.010036,
     "end_time": "2025-02-06T02:37:49.762639",
     "exception": false,
     "start_time": "2025-02-06T02:37:49.752603",
     "status": "completed"
    },
    "tags": []
   },
   "source": [
    "### The dataset is highly imbalanced. There is way more '0' category than '1'. Have to use resampler."
   ]
  },
  {
   "cell_type": "markdown",
   "id": "2f8d7445",
   "metadata": {
    "papermill": {
     "duration": 0.00955,
     "end_time": "2025-02-06T02:37:49.782373",
     "exception": false,
     "start_time": "2025-02-06T02:37:49.772823",
     "status": "completed"
    },
    "tags": []
   },
   "source": [
    "### Splitting data into dependent and independent variables."
   ]
  },
  {
   "cell_type": "code",
   "execution_count": 9,
   "id": "39c13206",
   "metadata": {
    "execution": {
     "iopub.execute_input": "2025-02-06T02:37:49.802506Z",
     "iopub.status.busy": "2025-02-06T02:37:49.802141Z",
     "iopub.status.idle": "2025-02-06T02:37:49.836832Z",
     "shell.execute_reply": "2025-02-06T02:37:49.835459Z"
    },
    "papermill": {
     "duration": 0.046962,
     "end_time": "2025-02-06T02:37:49.838888",
     "exception": false,
     "start_time": "2025-02-06T02:37:49.791926",
     "status": "completed"
    },
    "tags": []
   },
   "outputs": [
    {
     "name": "stdout",
     "output_type": "stream",
     "text": [
      "(331634, 27)\n",
      "(331634,)\n"
     ]
    }
   ],
   "source": [
    "X = main_data.drop('SepsisLabel', axis=1)  # Independent\n",
    "y = main_data['SepsisLabel']               # Dependent\n",
    "\n",
    "# Checking shapes\n",
    "print(X.shape)\n",
    "print(y.shape)"
   ]
  },
  {
   "cell_type": "markdown",
   "id": "1f5a7c2c",
   "metadata": {
    "papermill": {
     "duration": 0.014459,
     "end_time": "2025-02-06T02:37:49.867476",
     "exception": false,
     "start_time": "2025-02-06T02:37:49.853017",
     "status": "completed"
    },
    "tags": []
   },
   "source": [
    "### Resampling and Train test split."
   ]
  },
  {
   "cell_type": "code",
   "execution_count": 10,
   "id": "65998e08",
   "metadata": {
    "execution": {
     "iopub.execute_input": "2025-02-06T02:37:49.888234Z",
     "iopub.status.busy": "2025-02-06T02:37:49.887847Z",
     "iopub.status.idle": "2025-02-06T02:37:49.977941Z",
     "shell.execute_reply": "2025-02-06T02:37:49.976838Z"
    },
    "papermill": {
     "duration": 0.102612,
     "end_time": "2025-02-06T02:37:49.979978",
     "exception": false,
     "start_time": "2025-02-06T02:37:49.877366",
     "status": "completed"
    },
    "tags": []
   },
   "outputs": [],
   "source": [
    "# Define undersampler\n",
    "undersampler = RandomUnderSampler(random_state=42)\n",
    "\n",
    "# Apply undersampling\n",
    "X_balanced, y_balanced = undersampler.fit_resample(X, y)"
   ]
  },
  {
   "cell_type": "code",
   "execution_count": 11,
   "id": "6a1a6db6",
   "metadata": {
    "execution": {
     "iopub.execute_input": "2025-02-06T02:37:49.999853Z",
     "iopub.status.busy": "2025-02-06T02:37:49.999377Z",
     "iopub.status.idle": "2025-02-06T02:37:50.010605Z",
     "shell.execute_reply": "2025-02-06T02:37:50.009271Z"
    },
    "papermill": {
     "duration": 0.023607,
     "end_time": "2025-02-06T02:37:50.012841",
     "exception": false,
     "start_time": "2025-02-06T02:37:49.989234",
     "status": "completed"
    },
    "tags": []
   },
   "outputs": [],
   "source": [
    "# X = Features, y = Target variable\n",
    "X_train, X_test, y_train, y_test = train_test_split(X_balanced, y_balanced, test_size=0.2, random_state=42)"
   ]
  },
  {
   "cell_type": "code",
   "execution_count": 12,
   "id": "3facf7cb",
   "metadata": {
    "execution": {
     "iopub.execute_input": "2025-02-06T02:37:50.033249Z",
     "iopub.status.busy": "2025-02-06T02:37:50.032843Z",
     "iopub.status.idle": "2025-02-06T02:37:50.039858Z",
     "shell.execute_reply": "2025-02-06T02:37:50.038558Z"
    },
    "papermill": {
     "duration": 0.019025,
     "end_time": "2025-02-06T02:37:50.041549",
     "exception": false,
     "start_time": "2025-02-06T02:37:50.022524",
     "status": "completed"
    },
    "tags": []
   },
   "outputs": [
    {
     "data": {
      "text/plain": [
       "SepsisLabel\n",
       "1    5520\n",
       "0    5478\n",
       "Name: count, dtype: int64"
      ]
     },
     "execution_count": 12,
     "metadata": {},
     "output_type": "execute_result"
    }
   ],
   "source": [
    "# Checking distribution after resampling\n",
    "y_train.value_counts()"
   ]
  },
  {
   "cell_type": "markdown",
   "id": "d7a96498",
   "metadata": {
    "papermill": {
     "duration": 0.009279,
     "end_time": "2025-02-06T02:37:50.060644",
     "exception": false,
     "start_time": "2025-02-06T02:37:50.051365",
     "status": "completed"
    },
    "tags": []
   },
   "source": [
    "Scaling data"
   ]
  },
  {
   "cell_type": "code",
   "execution_count": 13,
   "id": "57e4a6e0",
   "metadata": {
    "execution": {
     "iopub.execute_input": "2025-02-06T02:37:50.081850Z",
     "iopub.status.busy": "2025-02-06T02:37:50.081446Z",
     "iopub.status.idle": "2025-02-06T02:37:50.118042Z",
     "shell.execute_reply": "2025-02-06T02:37:50.116824Z"
    },
    "papermill": {
     "duration": 0.050228,
     "end_time": "2025-02-06T02:37:50.120472",
     "exception": false,
     "start_time": "2025-02-06T02:37:50.070244",
     "status": "completed"
    },
    "tags": []
   },
   "outputs": [],
   "source": [
    "# Creating instance of Standard Scaler\n",
    "scaler = StandardScaler()\n",
    "\n",
    "# Fitting data (X_train)\n",
    "scaler.fit(X_train)\n",
    "\n",
    "# Scaling X_train and X_test\n",
    "X_train_scaled = scaler.transform(X_train)\n",
    "X_test_scaled = scaler.transform(X_test)"
   ]
  },
  {
   "cell_type": "markdown",
   "id": "a24e57f9",
   "metadata": {
    "papermill": {
     "duration": 0.011884,
     "end_time": "2025-02-06T02:37:50.147189",
     "exception": false,
     "start_time": "2025-02-06T02:37:50.135305",
     "status": "completed"
    },
    "tags": []
   },
   "source": [
    "### Predictive modelling."
   ]
  },
  {
   "cell_type": "code",
   "execution_count": 14,
   "id": "e850197e",
   "metadata": {
    "execution": {
     "iopub.execute_input": "2025-02-06T02:37:50.169871Z",
     "iopub.status.busy": "2025-02-06T02:37:50.169368Z",
     "iopub.status.idle": "2025-02-06T02:37:51.622465Z",
     "shell.execute_reply": "2025-02-06T02:37:51.621303Z"
    },
    "papermill": {
     "duration": 1.467454,
     "end_time": "2025-02-06T02:37:51.624553",
     "exception": false,
     "start_time": "2025-02-06T02:37:50.157099",
     "status": "completed"
    },
    "tags": []
   },
   "outputs": [],
   "source": [
    "# Creating model instance\n",
    "rf_model = RandomForestClassifier(class_weight='balanced')\n",
    "\n",
    "# Training ML algorithm\n",
    "rf_model.fit(X_train_scaled, y_train)\n",
    "\n",
    "# Making predictions\n",
    "rf_pred = rf_model.predict(X_test_scaled)"
   ]
  },
  {
   "cell_type": "markdown",
   "id": "44138365",
   "metadata": {
    "papermill": {
     "duration": 0.009103,
     "end_time": "2025-02-06T02:37:51.643251",
     "exception": false,
     "start_time": "2025-02-06T02:37:51.634148",
     "status": "completed"
    },
    "tags": []
   },
   "source": [
    "### Scores"
   ]
  },
  {
   "cell_type": "code",
   "execution_count": 15,
   "id": "1a5b69c0",
   "metadata": {
    "execution": {
     "iopub.execute_input": "2025-02-06T02:37:51.663111Z",
     "iopub.status.busy": "2025-02-06T02:37:51.662735Z",
     "iopub.status.idle": "2025-02-06T02:37:51.681726Z",
     "shell.execute_reply": "2025-02-06T02:37:51.680551Z"
    },
    "papermill": {
     "duration": 0.030934,
     "end_time": "2025-02-06T02:37:51.683476",
     "exception": false,
     "start_time": "2025-02-06T02:37:51.652542",
     "status": "completed"
    },
    "tags": []
   },
   "outputs": [
    {
     "name": "stdout",
     "output_type": "stream",
     "text": [
      "Accuracy score: 0.9156363636363636\n",
      "\n",
      "Precision score: 0.8800813008130082\n",
      "\n",
      "Recall score: 0.9593796159527327\n",
      "\n",
      "F1 Score: 0.9180212014134275\n"
     ]
    }
   ],
   "source": [
    "# Accuracy score\n",
    "rf_score = accuracy_score(y_test, rf_pred)\n",
    "print(f'Accuracy score: {rf_score}')\n",
    "print()\n",
    "\n",
    "# Precision score\n",
    "rf_precision = precision_score(y_test, rf_pred)\n",
    "print(f'Precision score: {rf_precision}')\n",
    "print()\n",
    "\n",
    "# Recall Score\n",
    "rf_recall = recall_score(y_test, rf_pred)\n",
    "print(f'Recall score: {rf_recall}')\n",
    "print()\n",
    "\n",
    "# F1 score\n",
    "rf_f1 = f1_score(y_test, rf_pred)\n",
    "print(f'F1 Score: {rf_f1}')"
   ]
  },
  {
   "cell_type": "markdown",
   "id": "396ad9c6",
   "metadata": {
    "papermill": {
     "duration": 0.00909,
     "end_time": "2025-02-06T02:37:51.702203",
     "exception": false,
     "start_time": "2025-02-06T02:37:51.693113",
     "status": "completed"
    },
    "tags": []
   },
   "source": [
    "# Submission"
   ]
  },
  {
   "cell_type": "markdown",
   "id": "1e1a1356",
   "metadata": {
    "papermill": {
     "duration": 0.00911,
     "end_time": "2025-02-06T02:37:51.720573",
     "exception": false,
     "start_time": "2025-02-06T02:37:51.711463",
     "status": "completed"
    },
    "tags": []
   },
   "source": [
    "### Reading test data"
   ]
  },
  {
   "cell_type": "code",
   "execution_count": 16,
   "id": "9f03ba79",
   "metadata": {
    "execution": {
     "iopub.execute_input": "2025-02-06T02:37:51.740777Z",
     "iopub.status.busy": "2025-02-06T02:37:51.740315Z",
     "iopub.status.idle": "2025-02-06T02:37:52.141361Z",
     "shell.execute_reply": "2025-02-06T02:37:52.140172Z"
    },
    "papermill": {
     "duration": 0.413469,
     "end_time": "2025-02-06T02:37:52.143497",
     "exception": false,
     "start_time": "2025-02-06T02:37:51.730028",
     "status": "completed"
    },
    "tags": []
   },
   "outputs": [],
   "source": [
    "# Patient Demographics data\n",
    "patient_demographics_test = pd.read_csv('/kaggle/input/phems-hackathon-early-sepsis-prediction/testing_data/person_demographics_episode_test.csv')\n",
    "\n",
    "# Lab Measurement data\n",
    "lab_measure_test = pd.read_csv('/kaggle/input/phems-hackathon-early-sepsis-prediction/testing_data/measurement_lab_test.csv')\n",
    "\n",
    "# Meds maesurement data\n",
    "meds_measurement_test = pd.read_csv('/kaggle/input/phems-hackathon-early-sepsis-prediction/testing_data/measurement_meds_test.csv')\n",
    "\n",
    "# Sepsis label data\n",
    "sepsis_label_test = pd.read_csv('/kaggle/input/phems-hackathon-early-sepsis-prediction/testing_data/SepsisLabel_test.csv')"
   ]
  },
  {
   "cell_type": "markdown",
   "id": "32b78681",
   "metadata": {
    "papermill": {
     "duration": 0.00914,
     "end_time": "2025-02-06T02:37:52.162410",
     "exception": false,
     "start_time": "2025-02-06T02:37:52.153270",
     "status": "completed"
    },
    "tags": []
   },
   "source": [
    "# Formatting the datasets"
   ]
  },
  {
   "cell_type": "markdown",
   "id": "9ef1fa3c",
   "metadata": {
    "papermill": {
     "duration": 0.009098,
     "end_time": "2025-02-06T02:37:52.181210",
     "exception": false,
     "start_time": "2025-02-06T02:37:52.172112",
     "status": "completed"
    },
    "tags": []
   },
   "source": [
    "Formatting 'patient_demographics_test' dataset"
   ]
  },
  {
   "cell_type": "code",
   "execution_count": 17,
   "id": "c75116ae",
   "metadata": {
    "execution": {
     "iopub.execute_input": "2025-02-06T02:37:52.201234Z",
     "iopub.status.busy": "2025-02-06T02:37:52.200858Z",
     "iopub.status.idle": "2025-02-06T02:37:52.211759Z",
     "shell.execute_reply": "2025-02-06T02:37:52.210603Z"
    },
    "papermill": {
     "duration": 0.023815,
     "end_time": "2025-02-06T02:37:52.214356",
     "exception": false,
     "start_time": "2025-02-06T02:37:52.190541",
     "status": "completed"
    },
    "tags": []
   },
   "outputs": [],
   "source": [
    "# Necessary columns from patients demographics\n",
    "patient_demographics_test = patient_demographics_test[['person_id', 'age_in_months', 'gender']]\n",
    "\n",
    "# Label encoding gender column\n",
    "patient_demographics_test['gender'] = patient_demographics_test['gender'].map({'MALE':0, 'FEMALE':1}).astype(np.int64)\n",
    "\n",
    "# Grouping by 'person_id'\n",
    "patient_demographics_test = patient_demographics_test.groupby('person_id').mean()\n",
    "\n",
    "# Ressting index\n",
    "patient_demographics_test = patient_demographics_test.reset_index()"
   ]
  },
  {
   "cell_type": "markdown",
   "id": "1b4aac87",
   "metadata": {
    "papermill": {
     "duration": 0.009902,
     "end_time": "2025-02-06T02:37:52.238513",
     "exception": false,
     "start_time": "2025-02-06T02:37:52.228611",
     "status": "completed"
    },
    "tags": []
   },
   "source": [
    "Formatting 'lab_measure_test' dataset"
   ]
  },
  {
   "cell_type": "code",
   "execution_count": 18,
   "id": "30fefd8c",
   "metadata": {
    "execution": {
     "iopub.execute_input": "2025-02-06T02:37:52.271487Z",
     "iopub.status.busy": "2025-02-06T02:37:52.271113Z",
     "iopub.status.idle": "2025-02-06T02:37:52.313915Z",
     "shell.execute_reply": "2025-02-06T02:37:52.312705Z"
    },
    "papermill": {
     "duration": 0.062979,
     "end_time": "2025-02-06T02:37:52.316053",
     "exception": false,
     "start_time": "2025-02-06T02:37:52.253074",
     "status": "completed"
    },
    "tags": []
   },
   "outputs": [],
   "source": [
    "# Necessary columns from lab measure\n",
    "necessary_columns = ['person_id',\n",
    "'C reactive protein [Mass/volume] in Serum or Plasma',\n",
    "'Interleukin 6 [Mass/volume] in Body fluid',\n",
    "'Procalcitonin [Mass/volume] in Serum or Plasma',\n",
    "'Bilirubin.total [Moles/volume] in Serum or Plasma',\n",
    "'Lactate [Moles/volume] in Blood',\n",
    "'Creatinine [Mass/volume] in Blood',\n",
    "'Base excess in Arterial blood by calculation',\n",
    "'Bicarbonate [Moles/volume] in Arterial blood',\n",
    "'Carbon dioxide [Partial pressure] in Venous blood',\n",
    "'Oxygen [Partial pressure] in Venous blood',\n",
    "'Blood arterial pH', 'Blood venous pH',\n",
    "'Platelet count', 'Prothrombin time (PT)',\n",
    "'Partial thromboplastin time',\n",
    "' activated', 'D-dimer level', 'Fibrinogen measurement',\n",
    "'Total white blood count'\n",
    "]\n",
    "\n",
    "# formatting with important cols\n",
    "lab_measure_test = lab_measure_test[necessary_columns]\n",
    "\n",
    "# Imputing null values\n",
    "lab_measure_test.fillna(lab_measure_test.mean(), inplace=True)\n",
    "\n",
    "# Groping by 'person_id'\n",
    "lab_measure_test = lab_measure_test.groupby('person_id').mean()"
   ]
  },
  {
   "cell_type": "markdown",
   "id": "69791dbd",
   "metadata": {
    "papermill": {
     "duration": 0.009783,
     "end_time": "2025-02-06T02:37:52.335828",
     "exception": false,
     "start_time": "2025-02-06T02:37:52.326045",
     "status": "completed"
    },
    "tags": []
   },
   "source": [
    "Merge 1: 'patient_demographics_test' and 'lab_measure_test'."
   ]
  },
  {
   "cell_type": "code",
   "execution_count": 19,
   "id": "5157272e",
   "metadata": {
    "execution": {
     "iopub.execute_input": "2025-02-06T02:37:52.356931Z",
     "iopub.status.busy": "2025-02-06T02:37:52.356414Z",
     "iopub.status.idle": "2025-02-06T02:37:52.364341Z",
     "shell.execute_reply": "2025-02-06T02:37:52.363186Z"
    },
    "papermill": {
     "duration": 0.020917,
     "end_time": "2025-02-06T02:37:52.366305",
     "exception": false,
     "start_time": "2025-02-06T02:37:52.345388",
     "status": "completed"
    },
    "tags": []
   },
   "outputs": [],
   "source": [
    "# Merging main data with Meds measurement\n",
    "main_test_data = patient_demographics_test.merge(lab_measure_test, on='person_id', how='outer')"
   ]
  },
  {
   "cell_type": "markdown",
   "id": "30537453",
   "metadata": {
    "papermill": {
     "duration": 0.01071,
     "end_time": "2025-02-06T02:37:52.387473",
     "exception": false,
     "start_time": "2025-02-06T02:37:52.376763",
     "status": "completed"
    },
    "tags": []
   },
   "source": [
    "Formatting 'meds_measurement_test' dataset."
   ]
  },
  {
   "cell_type": "code",
   "execution_count": 20,
   "id": "43a5d13f",
   "metadata": {
    "execution": {
     "iopub.execute_input": "2025-02-06T02:37:52.408848Z",
     "iopub.status.busy": "2025-02-06T02:37:52.408408Z",
     "iopub.status.idle": "2025-02-06T02:37:52.427011Z",
     "shell.execute_reply": "2025-02-06T02:37:52.425809Z"
    },
    "papermill": {
     "duration": 0.033537,
     "end_time": "2025-02-06T02:37:52.431413",
     "exception": false,
     "start_time": "2025-02-06T02:37:52.397876",
     "status": "completed"
    },
    "tags": []
   },
   "outputs": [],
   "source": [
    "# Necessary columns from meds measure\n",
    "necessary_columns = ['person_id', 'Systolic blood pressure', 'Diastolic blood pressure', 'Body temperature','Respiratory rate', 'Heart rate', 'Measurement of oxygen saturation at periphery']\n",
    "\n",
    "# Dormatting with important cols\n",
    "meds_measurement_test = meds_measurement_test[necessary_columns]\n",
    "\n",
    "# Dropping null values\n",
    "meds_measurement_test = meds_measurement_test.dropna()\n",
    "\n",
    "# Groping by 'person_id'\n",
    "meds_measurement_test = meds_measurement_test.groupby('person_id').mean()"
   ]
  },
  {
   "cell_type": "markdown",
   "id": "a2b25374",
   "metadata": {
    "papermill": {
     "duration": 0.011226,
     "end_time": "2025-02-06T02:37:52.459488",
     "exception": false,
     "start_time": "2025-02-06T02:37:52.448262",
     "status": "completed"
    },
    "tags": []
   },
   "source": [
    "Merge 2: Merging 'main_test_data' with 'meds_measurement_test'."
   ]
  },
  {
   "cell_type": "code",
   "execution_count": 21,
   "id": "1a386e95",
   "metadata": {
    "execution": {
     "iopub.execute_input": "2025-02-06T02:37:52.480493Z",
     "iopub.status.busy": "2025-02-06T02:37:52.479974Z",
     "iopub.status.idle": "2025-02-06T02:37:52.488255Z",
     "shell.execute_reply": "2025-02-06T02:37:52.487033Z"
    },
    "papermill": {
     "duration": 0.021193,
     "end_time": "2025-02-06T02:37:52.490402",
     "exception": false,
     "start_time": "2025-02-06T02:37:52.469209",
     "status": "completed"
    },
    "tags": []
   },
   "outputs": [],
   "source": [
    "# Merging main data with Meds measurement\n",
    "main_test_data = main_test_data.merge(meds_measurement_test, on='person_id', how='outer')"
   ]
  },
  {
   "cell_type": "markdown",
   "id": "5d549bed",
   "metadata": {
    "papermill": {
     "duration": 0.009446,
     "end_time": "2025-02-06T02:37:52.510276",
     "exception": false,
     "start_time": "2025-02-06T02:37:52.500830",
     "status": "completed"
    },
    "tags": []
   },
   "source": [
    "Formatting 'sepsis_label_test' dataset."
   ]
  },
  {
   "cell_type": "code",
   "execution_count": 22,
   "id": "a3e0d4c1",
   "metadata": {
    "execution": {
     "iopub.execute_input": "2025-02-06T02:37:52.532555Z",
     "iopub.status.busy": "2025-02-06T02:37:52.532197Z",
     "iopub.status.idle": "2025-02-06T02:37:52.585215Z",
     "shell.execute_reply": "2025-02-06T02:37:52.584179Z"
    },
    "papermill": {
     "duration": 0.066755,
     "end_time": "2025-02-06T02:37:52.586879",
     "exception": false,
     "start_time": "2025-02-06T02:37:52.520124",
     "status": "completed"
    },
    "tags": []
   },
   "outputs": [],
   "source": [
    "sepsis_label_test['measurement_datetime'] = pd.to_datetime(sepsis_label_test['measurement_datetime'])"
   ]
  },
  {
   "cell_type": "markdown",
   "id": "b7e84938",
   "metadata": {
    "papermill": {
     "duration": 0.009971,
     "end_time": "2025-02-06T02:37:52.606819",
     "exception": false,
     "start_time": "2025-02-06T02:37:52.596848",
     "status": "completed"
    },
    "tags": []
   },
   "source": [
    "Merge 3: Merging 'main_test_data' with 'sepsis_label_test'."
   ]
  },
  {
   "cell_type": "code",
   "execution_count": 23,
   "id": "a3cdb263",
   "metadata": {
    "execution": {
     "iopub.execute_input": "2025-02-06T02:37:52.634113Z",
     "iopub.status.busy": "2025-02-06T02:37:52.633608Z",
     "iopub.status.idle": "2025-02-06T02:37:52.769191Z",
     "shell.execute_reply": "2025-02-06T02:37:52.767827Z"
    },
    "papermill": {
     "duration": 0.148764,
     "end_time": "2025-02-06T02:37:52.771476",
     "exception": false,
     "start_time": "2025-02-06T02:37:52.622712",
     "status": "completed"
    },
    "tags": []
   },
   "outputs": [
    {
     "data": {
      "text/plain": [
       "(130483, 29)"
      ]
     },
     "execution_count": 23,
     "metadata": {},
     "output_type": "execute_result"
    }
   ],
   "source": [
    "# Merging main data formed so far with sepsis label data\n",
    "main_test_data = main_test_data.merge(sepsis_label_test, on='person_id', how='inner')\n",
    "\n",
    "# Imputing null values\n",
    "main_test_data.fillna(main_test_data.mean(), inplace=True)\n",
    "\n",
    "# Checking shape\n",
    "main_test_data.shape"
   ]
  },
  {
   "cell_type": "code",
   "execution_count": 24,
   "id": "189b837b",
   "metadata": {
    "execution": {
     "iopub.execute_input": "2025-02-06T02:37:52.802919Z",
     "iopub.status.busy": "2025-02-06T02:37:52.802543Z",
     "iopub.status.idle": "2025-02-06T02:37:52.813052Z",
     "shell.execute_reply": "2025-02-06T02:37:52.811865Z"
    },
    "papermill": {
     "duration": 0.025925,
     "end_time": "2025-02-06T02:37:52.815256",
     "exception": false,
     "start_time": "2025-02-06T02:37:52.789331",
     "status": "completed"
    },
    "tags": []
   },
   "outputs": [],
   "source": [
    "# Creating a copy of the dataset\n",
    "main_test_data_copy = main_test_data.copy()"
   ]
  },
  {
   "cell_type": "code",
   "execution_count": 25,
   "id": "61efe958",
   "metadata": {
    "execution": {
     "iopub.execute_input": "2025-02-06T02:37:52.842313Z",
     "iopub.status.busy": "2025-02-06T02:37:52.841965Z",
     "iopub.status.idle": "2025-02-06T02:37:52.939978Z",
     "shell.execute_reply": "2025-02-06T02:37:52.938811Z"
    },
    "papermill": {
     "duration": 0.111359,
     "end_time": "2025-02-06T02:37:52.942208",
     "exception": false,
     "start_time": "2025-02-06T02:37:52.830849",
     "status": "completed"
    },
    "tags": []
   },
   "outputs": [],
   "source": [
    "# Dropping unnecessary columns\n",
    "main_test_data_copy = main_test_data_copy.drop(['person_id', 'measurement_datetime'], axis=1)\n",
    "\n",
    "# Imputing null values\n",
    "main_test_data_copy = main_test_data_copy.fillna(main_test_data_copy.mean())\n",
    "\n",
    "# Resetting Index\n",
    "main_test_data_copy = main_test_data_copy.reset_index(drop=True)"
   ]
  },
  {
   "cell_type": "code",
   "execution_count": 26,
   "id": "c7ef0504",
   "metadata": {
    "execution": {
     "iopub.execute_input": "2025-02-06T02:37:52.963208Z",
     "iopub.status.busy": "2025-02-06T02:37:52.962857Z",
     "iopub.status.idle": "2025-02-06T02:37:53.871846Z",
     "shell.execute_reply": "2025-02-06T02:37:53.870715Z"
    },
    "papermill": {
     "duration": 0.921554,
     "end_time": "2025-02-06T02:37:53.873758",
     "exception": false,
     "start_time": "2025-02-06T02:37:52.952204",
     "status": "completed"
    },
    "tags": []
   },
   "outputs": [],
   "source": [
    "# Scaling test data\n",
    "main_test_data_copy_scaled = scaler.transform(main_test_data_copy)\n",
    "\n",
    "# Making prediction\n",
    "test_data_pred = rf_model.predict(main_test_data_copy_scaled)"
   ]
  },
  {
   "cell_type": "code",
   "execution_count": 27,
   "id": "42ece206",
   "metadata": {
    "execution": {
     "iopub.execute_input": "2025-02-06T02:37:53.895776Z",
     "iopub.status.busy": "2025-02-06T02:37:53.895356Z",
     "iopub.status.idle": "2025-02-06T02:37:54.197723Z",
     "shell.execute_reply": "2025-02-06T02:37:54.196488Z"
    },
    "papermill": {
     "duration": 0.315304,
     "end_time": "2025-02-06T02:37:54.199587",
     "exception": false,
     "start_time": "2025-02-06T02:37:53.884283",
     "status": "completed"
    },
    "tags": []
   },
   "outputs": [
    {
     "data": {
      "text/html": [
       "<div>\n",
       "<style scoped>\n",
       "    .dataframe tbody tr th:only-of-type {\n",
       "        vertical-align: middle;\n",
       "    }\n",
       "\n",
       "    .dataframe tbody tr th {\n",
       "        vertical-align: top;\n",
       "    }\n",
       "\n",
       "    .dataframe thead th {\n",
       "        text-align: right;\n",
       "    }\n",
       "</style>\n",
       "<table border=\"1\" class=\"dataframe\">\n",
       "  <thead>\n",
       "    <tr style=\"text-align: right;\">\n",
       "      <th></th>\n",
       "      <th>person_id_datetime</th>\n",
       "      <th>SepsisLabel</th>\n",
       "    </tr>\n",
       "  </thead>\n",
       "  <tbody>\n",
       "    <tr>\n",
       "      <th>0</th>\n",
       "      <td>1416048048_2021-03-25 10:00:00</td>\n",
       "      <td>0</td>\n",
       "    </tr>\n",
       "    <tr>\n",
       "      <th>1</th>\n",
       "      <td>280531880_2024-01-22 18:00:00</td>\n",
       "      <td>0</td>\n",
       "    </tr>\n",
       "    <tr>\n",
       "      <th>2</th>\n",
       "      <td>1127023302_2023-12-29 21:00:00</td>\n",
       "      <td>0</td>\n",
       "    </tr>\n",
       "    <tr>\n",
       "      <th>3</th>\n",
       "      <td>2065909112_2021-07-07 05:00:00</td>\n",
       "      <td>0</td>\n",
       "    </tr>\n",
       "    <tr>\n",
       "      <th>4</th>\n",
       "      <td>264445818_2024-08-23 22:00:00</td>\n",
       "      <td>0</td>\n",
       "    </tr>\n",
       "  </tbody>\n",
       "</table>\n",
       "</div>"
      ],
      "text/plain": [
       "               person_id_datetime  SepsisLabel\n",
       "0  1416048048_2021-03-25 10:00:00            0\n",
       "1   280531880_2024-01-22 18:00:00            0\n",
       "2  1127023302_2023-12-29 21:00:00            0\n",
       "3  2065909112_2021-07-07 05:00:00            0\n",
       "4   264445818_2024-08-23 22:00:00            0"
      ]
     },
     "execution_count": 27,
     "metadata": {},
     "output_type": "execute_result"
    }
   ],
   "source": [
    "# Creating submission file from test data\n",
    "submission_file = sepsis_label_test\n",
    "\n",
    "# A column with concatenation of 'person id' and 'datetime' columns  \n",
    "submission_file['person_id_datetime'] = submission_file['person_id'].astype(str) + '_' + submission_file['measurement_datetime'].astype(str)\n",
    "\n",
    "\n",
    "# Dropping 'person_id' and 'measurement_datetime'\n",
    "submission_file = submission_file.drop(['person_id', 'measurement_datetime'], axis=1)\n",
    "\n",
    "# Adding predictions column\n",
    "submission_file['SepsisLabel'] = test_data_pred\n",
    "\n",
    "# Checking how submission file looks\n",
    "submission_file.head()"
   ]
  },
  {
   "cell_type": "code",
   "execution_count": 28,
   "id": "b361f67c",
   "metadata": {
    "execution": {
     "iopub.execute_input": "2025-02-06T02:37:54.220548Z",
     "iopub.status.busy": "2025-02-06T02:37:54.220185Z",
     "iopub.status.idle": "2025-02-06T02:37:54.381473Z",
     "shell.execute_reply": "2025-02-06T02:37:54.380199Z"
    },
    "papermill": {
     "duration": 0.174088,
     "end_time": "2025-02-06T02:37:54.383525",
     "exception": false,
     "start_time": "2025-02-06T02:37:54.209437",
     "status": "completed"
    },
    "tags": []
   },
   "outputs": [],
   "source": [
    "# Writing submission file\n",
    "submission_file.to_csv(\"submission.csv\", index=False)"
   ]
  }
 ],
 "metadata": {
  "kaggle": {
   "accelerator": "none",
   "dataSources": [
    {
     "databundleVersionId": 10854531,
     "sourceId": 87997,
     "sourceType": "competition"
    }
   ],
   "dockerImageVersionId": 30839,
   "isGpuEnabled": false,
   "isInternetEnabled": true,
   "language": "python",
   "sourceType": "notebook"
  },
  "kernelspec": {
   "display_name": "Python 3",
   "language": "python",
   "name": "python3"
  },
  "language_info": {
   "codemirror_mode": {
    "name": "ipython",
    "version": 3
   },
   "file_extension": ".py",
   "mimetype": "text/x-python",
   "name": "python",
   "nbconvert_exporter": "python",
   "pygments_lexer": "ipython3",
   "version": "3.10.12"
  },
  "papermill": {
   "default_parameters": {},
   "duration": 13.988801,
   "end_time": "2025-02-06T02:37:55.214782",
   "environment_variables": {},
   "exception": null,
   "input_path": "__notebook__.ipynb",
   "output_path": "__notebook__.ipynb",
   "parameters": {},
   "start_time": "2025-02-06T02:37:41.225981",
   "version": "2.6.0"
  }
 },
 "nbformat": 4,
 "nbformat_minor": 5
}
