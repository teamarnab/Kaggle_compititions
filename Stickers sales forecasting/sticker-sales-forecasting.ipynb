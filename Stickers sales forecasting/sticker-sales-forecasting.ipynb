{
 "cells": [
  {
   "cell_type": "code",
   "execution_count": 1,
   "id": "532a214c",
   "metadata": {
    "_cell_guid": "b1076dfc-b9ad-4769-8c92-a6c4dae69d19",
    "_uuid": "8f2839f25d086af736a60e9eeb907d3b93b6e0e5",
    "execution": {
     "iopub.execute_input": "2025-01-26T11:59:34.846358Z",
     "iopub.status.busy": "2025-01-26T11:59:34.846033Z",
     "iopub.status.idle": "2025-01-26T11:59:38.056076Z",
     "shell.execute_reply": "2025-01-26T11:59:38.054948Z"
    },
    "papermill": {
     "duration": 3.222263,
     "end_time": "2025-01-26T11:59:38.057651",
     "exception": false,
     "start_time": "2025-01-26T11:59:34.835388",
     "status": "completed"
    },
    "tags": []
   },
   "outputs": [
    {
     "name": "stdout",
     "output_type": "stream",
     "text": [
      "/kaggle/input/playground-series-s5e1/sample_submission.csv\n",
      "/kaggle/input/playground-series-s5e1/train.csv\n",
      "/kaggle/input/playground-series-s5e1/test.csv\n"
     ]
    }
   ],
   "source": [
    "# This Python 3 environment comes with many helpful analytics libraries installed\n",
    "# It is defined by the kaggle/python Docker image: https://github.com/kaggle/docker-python\n",
    "# For example, here's several helpful packages to load\n",
    "\n",
    "import numpy as np # linear algebra\n",
    "import pandas as pd # data processing, CSV file I/O (e.g. pd.read_csv)\n",
    "import matplotlib.pyplot as plt # data visualization\n",
    "import seaborn as sns # data visualization\n",
    "from sklearn.preprocessing import StandardScaler\n",
    "'''\n",
    "import tensorflow as tf\n",
    "from tensorflow.keras.models import Sequential\n",
    "from tensorflow.keras.layers import Dense\n",
    "from sklearn.metrics import mean_absolute_percentage_error\n",
    "'''\n",
    "from sklearn.ensemble import RandomForestRegressor\n",
    "from sklearn.metrics import r2_score, mean_absolute_percentage_error\n",
    "\n",
    "\n",
    "# Input data files are available in the read-only \"../input/\" directory\n",
    "# For example, running this (by clicking run or pressing Shift+Enter) will list all files under the input directory\n",
    "\n",
    "import os\n",
    "for dirname, _, filenames in os.walk('/kaggle/input'):\n",
    "    for filename in filenames:\n",
    "        print(os.path.join(dirname, filename))\n",
    "\n",
    "# You can write up to 20GB to the current directory (/kaggle/working/) that gets preserved as output when you create a version using \"Save & Run All\" \n",
    "# You can also write temporary files to /kaggle/temp/, but they won't be saved outside of the current session"
   ]
  },
  {
   "cell_type": "code",
   "execution_count": 2,
   "id": "e0249311",
   "metadata": {
    "execution": {
     "iopub.execute_input": "2025-01-26T11:59:38.077155Z",
     "iopub.status.busy": "2025-01-26T11:59:38.076575Z",
     "iopub.status.idle": "2025-01-26T11:59:38.418953Z",
     "shell.execute_reply": "2025-01-26T11:59:38.417862Z"
    },
    "papermill": {
     "duration": 0.354185,
     "end_time": "2025-01-26T11:59:38.421058",
     "exception": false,
     "start_time": "2025-01-26T11:59:38.066873",
     "status": "completed"
    },
    "tags": []
   },
   "outputs": [],
   "source": [
    "# Impoting sticker sales dataset\n",
    "stickers_data = pd.read_csv(\"/kaggle/input/playground-series-s5e1/train.csv\")"
   ]
  },
  {
   "cell_type": "code",
   "execution_count": 3,
   "id": "48d17376",
   "metadata": {
    "execution": {
     "iopub.execute_input": "2025-01-26T11:59:38.439608Z",
     "iopub.status.busy": "2025-01-26T11:59:38.439197Z",
     "iopub.status.idle": "2025-01-26T11:59:38.467435Z",
     "shell.execute_reply": "2025-01-26T11:59:38.466002Z"
    },
    "papermill": {
     "duration": 0.03938,
     "end_time": "2025-01-26T11:59:38.469280",
     "exception": false,
     "start_time": "2025-01-26T11:59:38.429900",
     "status": "completed"
    },
    "tags": []
   },
   "outputs": [
    {
     "name": "stderr",
     "output_type": "stream",
     "text": [
      "/usr/local/lib/python3.10/dist-packages/pandas/io/formats/format.py:1458: RuntimeWarning: invalid value encountered in greater\n",
      "  has_large_values = (abs_vals > 1e6).any()\n",
      "/usr/local/lib/python3.10/dist-packages/pandas/io/formats/format.py:1459: RuntimeWarning: invalid value encountered in less\n",
      "  has_small_values = ((abs_vals < 10 ** (-self.digits)) & (abs_vals > 0)).any()\n",
      "/usr/local/lib/python3.10/dist-packages/pandas/io/formats/format.py:1459: RuntimeWarning: invalid value encountered in greater\n",
      "  has_small_values = ((abs_vals < 10 ** (-self.digits)) & (abs_vals > 0)).any()\n"
     ]
    },
    {
     "data": {
      "text/html": [
       "<div>\n",
       "<style scoped>\n",
       "    .dataframe tbody tr th:only-of-type {\n",
       "        vertical-align: middle;\n",
       "    }\n",
       "\n",
       "    .dataframe tbody tr th {\n",
       "        vertical-align: top;\n",
       "    }\n",
       "\n",
       "    .dataframe thead th {\n",
       "        text-align: right;\n",
       "    }\n",
       "</style>\n",
       "<table border=\"1\" class=\"dataframe\">\n",
       "  <thead>\n",
       "    <tr style=\"text-align: right;\">\n",
       "      <th></th>\n",
       "      <th>id</th>\n",
       "      <th>date</th>\n",
       "      <th>country</th>\n",
       "      <th>store</th>\n",
       "      <th>product</th>\n",
       "      <th>num_sold</th>\n",
       "    </tr>\n",
       "  </thead>\n",
       "  <tbody>\n",
       "    <tr>\n",
       "      <th>0</th>\n",
       "      <td>0</td>\n",
       "      <td>2010-01-01</td>\n",
       "      <td>Canada</td>\n",
       "      <td>Discount Stickers</td>\n",
       "      <td>Holographic Goose</td>\n",
       "      <td>NaN</td>\n",
       "    </tr>\n",
       "    <tr>\n",
       "      <th>1</th>\n",
       "      <td>1</td>\n",
       "      <td>2010-01-01</td>\n",
       "      <td>Canada</td>\n",
       "      <td>Discount Stickers</td>\n",
       "      <td>Kaggle</td>\n",
       "      <td>973.0</td>\n",
       "    </tr>\n",
       "    <tr>\n",
       "      <th>2</th>\n",
       "      <td>2</td>\n",
       "      <td>2010-01-01</td>\n",
       "      <td>Canada</td>\n",
       "      <td>Discount Stickers</td>\n",
       "      <td>Kaggle Tiers</td>\n",
       "      <td>906.0</td>\n",
       "    </tr>\n",
       "    <tr>\n",
       "      <th>3</th>\n",
       "      <td>3</td>\n",
       "      <td>2010-01-01</td>\n",
       "      <td>Canada</td>\n",
       "      <td>Discount Stickers</td>\n",
       "      <td>Kerneler</td>\n",
       "      <td>423.0</td>\n",
       "    </tr>\n",
       "    <tr>\n",
       "      <th>4</th>\n",
       "      <td>4</td>\n",
       "      <td>2010-01-01</td>\n",
       "      <td>Canada</td>\n",
       "      <td>Discount Stickers</td>\n",
       "      <td>Kerneler Dark Mode</td>\n",
       "      <td>491.0</td>\n",
       "    </tr>\n",
       "  </tbody>\n",
       "</table>\n",
       "</div>"
      ],
      "text/plain": [
       "   id        date country              store             product  num_sold\n",
       "0   0  2010-01-01  Canada  Discount Stickers   Holographic Goose       NaN\n",
       "1   1  2010-01-01  Canada  Discount Stickers              Kaggle     973.0\n",
       "2   2  2010-01-01  Canada  Discount Stickers        Kaggle Tiers     906.0\n",
       "3   3  2010-01-01  Canada  Discount Stickers            Kerneler     423.0\n",
       "4   4  2010-01-01  Canada  Discount Stickers  Kerneler Dark Mode     491.0"
      ]
     },
     "execution_count": 3,
     "metadata": {},
     "output_type": "execute_result"
    }
   ],
   "source": [
    "# Checking first five rows\n",
    "stickers_data.head()"
   ]
  },
  {
   "cell_type": "markdown",
   "id": "4c4ab44d",
   "metadata": {
    "papermill": {
     "duration": 0.008718,
     "end_time": "2025-01-26T11:59:38.487192",
     "exception": false,
     "start_time": "2025-01-26T11:59:38.478474",
     "status": "completed"
    },
    "tags": []
   },
   "source": [
    "## Knowing the dataset"
   ]
  },
  {
   "cell_type": "code",
   "execution_count": 4,
   "id": "d94f3076",
   "metadata": {
    "execution": {
     "iopub.execute_input": "2025-01-26T11:59:38.507321Z",
     "iopub.status.busy": "2025-01-26T11:59:38.506940Z",
     "iopub.status.idle": "2025-01-26T11:59:38.512970Z",
     "shell.execute_reply": "2025-01-26T11:59:38.511711Z"
    },
    "papermill": {
     "duration": 0.017762,
     "end_time": "2025-01-26T11:59:38.514878",
     "exception": false,
     "start_time": "2025-01-26T11:59:38.497116",
     "status": "completed"
    },
    "tags": []
   },
   "outputs": [
    {
     "name": "stdout",
     "output_type": "stream",
     "text": [
      "Number of rows: 230130\n",
      "Number of columns: 6\n"
     ]
    }
   ],
   "source": [
    "# Checking shape\n",
    "print(f\"Number of rows: {stickers_data.shape[0]}\")\n",
    "print(f\"Number of columns: {stickers_data.shape[1]}\")"
   ]
  },
  {
   "cell_type": "code",
   "execution_count": 5,
   "id": "d145ae99",
   "metadata": {
    "execution": {
     "iopub.execute_input": "2025-01-26T11:59:38.533980Z",
     "iopub.status.busy": "2025-01-26T11:59:38.533565Z",
     "iopub.status.idle": "2025-01-26T11:59:38.573473Z",
     "shell.execute_reply": "2025-01-26T11:59:38.572378Z"
    },
    "papermill": {
     "duration": 0.051212,
     "end_time": "2025-01-26T11:59:38.575152",
     "exception": false,
     "start_time": "2025-01-26T11:59:38.523940",
     "status": "completed"
    },
    "tags": []
   },
   "outputs": [
    {
     "name": "stdout",
     "output_type": "stream",
     "text": [
      "Date range: 2010-01-01 - 2016-12-31\n"
     ]
    }
   ],
   "source": [
    "print(f\"Date range: {stickers_data['date'].min()} - {stickers_data['date'].max()}\")"
   ]
  },
  {
   "cell_type": "markdown",
   "id": "c1d91441",
   "metadata": {
    "papermill": {
     "duration": 0.010648,
     "end_time": "2025-01-26T11:59:38.595394",
     "exception": false,
     "start_time": "2025-01-26T11:59:38.584746",
     "status": "completed"
    },
    "tags": []
   },
   "source": [
    "7 years of data"
   ]
  },
  {
   "cell_type": "code",
   "execution_count": 6,
   "id": "aca1172f",
   "metadata": {
    "execution": {
     "iopub.execute_input": "2025-01-26T11:59:38.614614Z",
     "iopub.status.busy": "2025-01-26T11:59:38.614216Z",
     "iopub.status.idle": "2025-01-26T11:59:38.620765Z",
     "shell.execute_reply": "2025-01-26T11:59:38.619425Z"
    },
    "papermill": {
     "duration": 0.018046,
     "end_time": "2025-01-26T11:59:38.622665",
     "exception": false,
     "start_time": "2025-01-26T11:59:38.604619",
     "status": "completed"
    },
    "tags": []
   },
   "outputs": [
    {
     "data": {
      "text/plain": [
       "Index(['id', 'date', 'country', 'store', 'product', 'num_sold'], dtype='object')"
      ]
     },
     "execution_count": 6,
     "metadata": {},
     "output_type": "execute_result"
    }
   ],
   "source": [
    "# Columns in the dataset\n",
    "stickers_data.columns"
   ]
  },
  {
   "cell_type": "code",
   "execution_count": 7,
   "id": "d9bcff93",
   "metadata": {
    "execution": {
     "iopub.execute_input": "2025-01-26T11:59:38.642410Z",
     "iopub.status.busy": "2025-01-26T11:59:38.642087Z",
     "iopub.status.idle": "2025-01-26T11:59:38.703877Z",
     "shell.execute_reply": "2025-01-26T11:59:38.702765Z"
    },
    "papermill": {
     "duration": 0.073618,
     "end_time": "2025-01-26T11:59:38.705556",
     "exception": false,
     "start_time": "2025-01-26T11:59:38.631938",
     "status": "completed"
    },
    "tags": []
   },
   "outputs": [
    {
     "data": {
      "text/plain": [
       "id             0\n",
       "date           0\n",
       "country        0\n",
       "store          0\n",
       "product        0\n",
       "num_sold    8871\n",
       "dtype: int64"
      ]
     },
     "execution_count": 7,
     "metadata": {},
     "output_type": "execute_result"
    }
   ],
   "source": [
    "# Checking null values\n",
    "stickers_data.isnull().sum()"
   ]
  },
  {
   "cell_type": "code",
   "execution_count": 8,
   "id": "2cdebed1",
   "metadata": {
    "execution": {
     "iopub.execute_input": "2025-01-26T11:59:38.725648Z",
     "iopub.status.busy": "2025-01-26T11:59:38.725263Z",
     "iopub.status.idle": "2025-01-26T11:59:38.758532Z",
     "shell.execute_reply": "2025-01-26T11:59:38.757434Z"
    },
    "papermill": {
     "duration": 0.045306,
     "end_time": "2025-01-26T11:59:38.760310",
     "exception": false,
     "start_time": "2025-01-26T11:59:38.715004",
     "status": "completed"
    },
    "tags": []
   },
   "outputs": [
    {
     "data": {
      "text/html": [
       "<div>\n",
       "<style scoped>\n",
       "    .dataframe tbody tr th:only-of-type {\n",
       "        vertical-align: middle;\n",
       "    }\n",
       "\n",
       "    .dataframe tbody tr th {\n",
       "        vertical-align: top;\n",
       "    }\n",
       "\n",
       "    .dataframe thead th {\n",
       "        text-align: right;\n",
       "    }\n",
       "</style>\n",
       "<table border=\"1\" class=\"dataframe\">\n",
       "  <thead>\n",
       "    <tr style=\"text-align: right;\">\n",
       "      <th></th>\n",
       "      <th>id</th>\n",
       "      <th>num_sold</th>\n",
       "    </tr>\n",
       "  </thead>\n",
       "  <tbody>\n",
       "    <tr>\n",
       "      <th>count</th>\n",
       "      <td>230130.000000</td>\n",
       "      <td>221259.000000</td>\n",
       "    </tr>\n",
       "    <tr>\n",
       "      <th>mean</th>\n",
       "      <td>115064.500000</td>\n",
       "      <td>752.527382</td>\n",
       "    </tr>\n",
       "    <tr>\n",
       "      <th>std</th>\n",
       "      <td>66432.953062</td>\n",
       "      <td>690.165445</td>\n",
       "    </tr>\n",
       "    <tr>\n",
       "      <th>min</th>\n",
       "      <td>0.000000</td>\n",
       "      <td>5.000000</td>\n",
       "    </tr>\n",
       "    <tr>\n",
       "      <th>25%</th>\n",
       "      <td>57532.250000</td>\n",
       "      <td>219.000000</td>\n",
       "    </tr>\n",
       "    <tr>\n",
       "      <th>50%</th>\n",
       "      <td>115064.500000</td>\n",
       "      <td>605.000000</td>\n",
       "    </tr>\n",
       "    <tr>\n",
       "      <th>75%</th>\n",
       "      <td>172596.750000</td>\n",
       "      <td>1114.000000</td>\n",
       "    </tr>\n",
       "    <tr>\n",
       "      <th>max</th>\n",
       "      <td>230129.000000</td>\n",
       "      <td>5939.000000</td>\n",
       "    </tr>\n",
       "  </tbody>\n",
       "</table>\n",
       "</div>"
      ],
      "text/plain": [
       "                  id       num_sold\n",
       "count  230130.000000  221259.000000\n",
       "mean   115064.500000     752.527382\n",
       "std     66432.953062     690.165445\n",
       "min         0.000000       5.000000\n",
       "25%     57532.250000     219.000000\n",
       "50%    115064.500000     605.000000\n",
       "75%    172596.750000    1114.000000\n",
       "max    230129.000000    5939.000000"
      ]
     },
     "execution_count": 8,
     "metadata": {},
     "output_type": "execute_result"
    }
   ],
   "source": [
    "# Statistical insight on dataset\n",
    "stickers_data.describe()"
   ]
  },
  {
   "cell_type": "code",
   "execution_count": 9,
   "id": "ec1b6297",
   "metadata": {
    "execution": {
     "iopub.execute_input": "2025-01-26T11:59:38.780051Z",
     "iopub.status.busy": "2025-01-26T11:59:38.779725Z",
     "iopub.status.idle": "2025-01-26T11:59:38.851308Z",
     "shell.execute_reply": "2025-01-26T11:59:38.850108Z"
    },
    "papermill": {
     "duration": 0.083368,
     "end_time": "2025-01-26T11:59:38.853102",
     "exception": false,
     "start_time": "2025-01-26T11:59:38.769734",
     "status": "completed"
    },
    "tags": []
   },
   "outputs": [
    {
     "name": "stdout",
     "output_type": "stream",
     "text": [
      "<class 'pandas.core.frame.DataFrame'>\n",
      "RangeIndex: 230130 entries, 0 to 230129\n",
      "Data columns (total 6 columns):\n",
      " #   Column    Non-Null Count   Dtype  \n",
      "---  ------    --------------   -----  \n",
      " 0   id        230130 non-null  int64  \n",
      " 1   date      230130 non-null  object \n",
      " 2   country   230130 non-null  object \n",
      " 3   store     230130 non-null  object \n",
      " 4   product   230130 non-null  object \n",
      " 5   num_sold  221259 non-null  float64\n",
      "dtypes: float64(1), int64(1), object(4)\n",
      "memory usage: 10.5+ MB\n"
     ]
    }
   ],
   "source": [
    "# General insight on dataset\n",
    "stickers_data.info()"
   ]
  },
  {
   "cell_type": "markdown",
   "id": "db62030c",
   "metadata": {
    "papermill": {
     "duration": 0.009625,
     "end_time": "2025-01-26T11:59:38.872783",
     "exception": false,
     "start_time": "2025-01-26T11:59:38.863158",
     "status": "completed"
    },
    "tags": []
   },
   "source": [
    "Inference till now:\n",
    "1. Date column is in object dtype.\n",
    "2. Null Values in \"num_sold\" (target) column.\n",
    "\n",
    "Checking distribution of data per category"
   ]
  },
  {
   "cell_type": "code",
   "execution_count": 10,
   "id": "21b380d2",
   "metadata": {
    "execution": {
     "iopub.execute_input": "2025-01-26T11:59:38.892913Z",
     "iopub.status.busy": "2025-01-26T11:59:38.892486Z",
     "iopub.status.idle": "2025-01-26T11:59:39.025421Z",
     "shell.execute_reply": "2025-01-26T11:59:39.024191Z"
    },
    "papermill": {
     "duration": 0.145067,
     "end_time": "2025-01-26T11:59:39.027244",
     "exception": false,
     "start_time": "2025-01-26T11:59:38.882177",
     "status": "completed"
    },
    "tags": []
   },
   "outputs": [
    {
     "name": "stdout",
     "output_type": "stream",
     "text": [
      "['Canada' 'Finland' 'Italy' 'Kenya' 'Norway' 'Singapore']\n",
      "['Discount Stickers' 'Stickers for Less' 'Premium Sticker Mart']\n",
      "['Holographic Goose' 'Kaggle' 'Kaggle Tiers' 'Kerneler'\n",
      " 'Kerneler Dark Mode']\n",
      "\n",
      "6\n",
      "3\n",
      "5\n",
      "\n",
      "country\n",
      "Canada       38355\n",
      "Finland      38355\n",
      "Italy        38355\n",
      "Kenya        38355\n",
      "Norway       38355\n",
      "Singapore    38355\n",
      "Name: count, dtype: int64\n",
      "\n",
      "store\n",
      "Discount Stickers       76710\n",
      "Stickers for Less       76710\n",
      "Premium Sticker Mart    76710\n",
      "Name: count, dtype: int64\n",
      "\n",
      "product\n",
      "Holographic Goose     46026\n",
      "Kaggle                46026\n",
      "Kaggle Tiers          46026\n",
      "Kerneler              46026\n",
      "Kerneler Dark Mode    46026\n",
      "Name: count, dtype: int64\n"
     ]
    }
   ],
   "source": [
    "# Check unique values in categorical columns\n",
    "print(stickers_data['country'].unique())\n",
    "print(stickers_data['store'].unique())\n",
    "print(stickers_data['product'].unique())\n",
    "\n",
    "print()\n",
    "\n",
    "# Check number of unique values in categorical columns\n",
    "print(stickers_data['country'].nunique())\n",
    "print(stickers_data['store'].nunique())\n",
    "print(stickers_data['product'].nunique())\n",
    "\n",
    "print()\n",
    "\n",
    "# Check data distribution of unique values in categorical columns\n",
    "print(stickers_data['country'].value_counts())\n",
    "print()\n",
    "print(stickers_data['store'].value_counts())\n",
    "print()\n",
    "print(stickers_data['product'].value_counts())"
   ]
  },
  {
   "cell_type": "markdown",
   "id": "9d63d348",
   "metadata": {
    "papermill": {
     "duration": 0.008798,
     "end_time": "2025-01-26T11:59:39.045548",
     "exception": false,
     "start_time": "2025-01-26T11:59:39.036750",
     "status": "completed"
    },
    "tags": []
   },
   "source": [
    "Inference: Data seems fairly distributed per category.\n",
    "\n",
    "### Need to do the following \n",
    "1. Drop \"id\" column. [Not of use as there are as mny unique values as many data points]\n",
    "2. Null value treatment.\n",
    "3. Change date column to datetime data type. [Curretly in Object datatype]\n",
    "4. Extract date features like day, month, year and weekday.\n",
    "5. Set the 'date' column as index after extracting the feature.\n",
    "6. Encode 'country', 'store' and 'product' column.\n",
    "7. Scale 'num_sold' (target) column."
   ]
  },
  {
   "cell_type": "markdown",
   "id": "81a409d2",
   "metadata": {
    "papermill": {
     "duration": 0.00895,
     "end_time": "2025-01-26T11:59:39.063593",
     "exception": false,
     "start_time": "2025-01-26T11:59:39.054643",
     "status": "completed"
    },
    "tags": []
   },
   "source": [
    "### Data pre-processing"
   ]
  },
  {
   "cell_type": "code",
   "execution_count": 11,
   "id": "4b6dedc1",
   "metadata": {
    "execution": {
     "iopub.execute_input": "2025-01-26T11:59:39.083689Z",
     "iopub.status.busy": "2025-01-26T11:59:39.083182Z",
     "iopub.status.idle": "2025-01-26T11:59:39.105075Z",
     "shell.execute_reply": "2025-01-26T11:59:39.103871Z"
    },
    "papermill": {
     "duration": 0.03383,
     "end_time": "2025-01-26T11:59:39.106737",
     "exception": false,
     "start_time": "2025-01-26T11:59:39.072907",
     "status": "completed"
    },
    "tags": []
   },
   "outputs": [
    {
     "name": "stderr",
     "output_type": "stream",
     "text": [
      "/usr/local/lib/python3.10/dist-packages/pandas/io/formats/format.py:1458: RuntimeWarning: invalid value encountered in greater\n",
      "  has_large_values = (abs_vals > 1e6).any()\n",
      "/usr/local/lib/python3.10/dist-packages/pandas/io/formats/format.py:1459: RuntimeWarning: invalid value encountered in less\n",
      "  has_small_values = ((abs_vals < 10 ** (-self.digits)) & (abs_vals > 0)).any()\n",
      "/usr/local/lib/python3.10/dist-packages/pandas/io/formats/format.py:1459: RuntimeWarning: invalid value encountered in greater\n",
      "  has_small_values = ((abs_vals < 10 ** (-self.digits)) & (abs_vals > 0)).any()\n"
     ]
    },
    {
     "data": {
      "text/html": [
       "<div>\n",
       "<style scoped>\n",
       "    .dataframe tbody tr th:only-of-type {\n",
       "        vertical-align: middle;\n",
       "    }\n",
       "\n",
       "    .dataframe tbody tr th {\n",
       "        vertical-align: top;\n",
       "    }\n",
       "\n",
       "    .dataframe thead th {\n",
       "        text-align: right;\n",
       "    }\n",
       "</style>\n",
       "<table border=\"1\" class=\"dataframe\">\n",
       "  <thead>\n",
       "    <tr style=\"text-align: right;\">\n",
       "      <th></th>\n",
       "      <th>date</th>\n",
       "      <th>country</th>\n",
       "      <th>store</th>\n",
       "      <th>product</th>\n",
       "      <th>num_sold</th>\n",
       "    </tr>\n",
       "  </thead>\n",
       "  <tbody>\n",
       "    <tr>\n",
       "      <th>0</th>\n",
       "      <td>2010-01-01</td>\n",
       "      <td>Canada</td>\n",
       "      <td>Discount Stickers</td>\n",
       "      <td>Holographic Goose</td>\n",
       "      <td>NaN</td>\n",
       "    </tr>\n",
       "    <tr>\n",
       "      <th>1</th>\n",
       "      <td>2010-01-01</td>\n",
       "      <td>Canada</td>\n",
       "      <td>Discount Stickers</td>\n",
       "      <td>Kaggle</td>\n",
       "      <td>973.0</td>\n",
       "    </tr>\n",
       "    <tr>\n",
       "      <th>2</th>\n",
       "      <td>2010-01-01</td>\n",
       "      <td>Canada</td>\n",
       "      <td>Discount Stickers</td>\n",
       "      <td>Kaggle Tiers</td>\n",
       "      <td>906.0</td>\n",
       "    </tr>\n",
       "    <tr>\n",
       "      <th>3</th>\n",
       "      <td>2010-01-01</td>\n",
       "      <td>Canada</td>\n",
       "      <td>Discount Stickers</td>\n",
       "      <td>Kerneler</td>\n",
       "      <td>423.0</td>\n",
       "    </tr>\n",
       "    <tr>\n",
       "      <th>4</th>\n",
       "      <td>2010-01-01</td>\n",
       "      <td>Canada</td>\n",
       "      <td>Discount Stickers</td>\n",
       "      <td>Kerneler Dark Mode</td>\n",
       "      <td>491.0</td>\n",
       "    </tr>\n",
       "  </tbody>\n",
       "</table>\n",
       "</div>"
      ],
      "text/plain": [
       "         date country              store             product  num_sold\n",
       "0  2010-01-01  Canada  Discount Stickers   Holographic Goose       NaN\n",
       "1  2010-01-01  Canada  Discount Stickers              Kaggle     973.0\n",
       "2  2010-01-01  Canada  Discount Stickers        Kaggle Tiers     906.0\n",
       "3  2010-01-01  Canada  Discount Stickers            Kerneler     423.0\n",
       "4  2010-01-01  Canada  Discount Stickers  Kerneler Dark Mode     491.0"
      ]
     },
     "execution_count": 11,
     "metadata": {},
     "output_type": "execute_result"
    }
   ],
   "source": [
    "# 1. Dropping \"id\" column\n",
    "stickers_data = stickers_data.drop(\"id\", axis =1)\n",
    "stickers_data.head()"
   ]
  },
  {
   "cell_type": "code",
   "execution_count": 12,
   "id": "093a9e12",
   "metadata": {
    "execution": {
     "iopub.execute_input": "2025-01-26T11:59:39.127455Z",
     "iopub.status.busy": "2025-01-26T11:59:39.127113Z",
     "iopub.status.idle": "2025-01-26T11:59:39.297238Z",
     "shell.execute_reply": "2025-01-26T11:59:39.295989Z"
    },
    "papermill": {
     "duration": 0.182603,
     "end_time": "2025-01-26T11:59:39.299090",
     "exception": false,
     "start_time": "2025-01-26T11:59:39.116487",
     "status": "completed"
    },
    "tags": []
   },
   "outputs": [
    {
     "name": "stdout",
     "output_type": "stream",
     "text": [
      "Value count by category\n",
      "category\n",
      "Canada_Discount Stickers_Holographic Goose           2557\n",
      "Norway_Stickers for Less_Kaggle Tiers                2557\n",
      "Norway_Stickers for Less_Holographic Goose           2557\n",
      "Norway_Discount Stickers_Kerneler Dark Mode          2557\n",
      "Norway_Discount Stickers_Kerneler                    2557\n",
      "                                                     ... \n",
      "Finland_Premium Sticker Mart_Kerneler                2557\n",
      "Finland_Premium Sticker Mart_Kaggle Tiers            2557\n",
      "Finland_Premium Sticker Mart_Kaggle                  2557\n",
      "Finland_Premium Sticker Mart_Holographic Goose       2557\n",
      "Singapore_Premium Sticker Mart_Kerneler Dark Mode    2557\n",
      "Name: count, Length: 90, dtype: int64\n",
      "\n",
      "Null Value count by category\n",
      "category\n",
      "Canada_Discount Stickers_Holographic Goose       2557\n",
      "Kenya_Discount Stickers_Holographic Goose        2557\n",
      "Kenya_Stickers for Less_Holographic Goose        1358\n",
      "Canada_Stickers for Less_Holographic Goose       1308\n",
      "Kenya_Premium Sticker Mart_Holographic Goose      646\n",
      "Canada_Premium Sticker Mart_Holographic Goose     380\n",
      "Kenya_Discount Stickers_Kerneler                   63\n",
      "Kenya_Discount Stickers_Kerneler Dark Mode          1\n",
      "Canada_Discount Stickers_Kerneler                   1\n",
      "Name: count, dtype: int64\n"
     ]
    }
   ],
   "source": [
    "# 1. Null value treatment\n",
    "\n",
    "# Creating a new column 'category' combining all the category\n",
    "stickers_data['category'] = stickers_data['country'] + \"_\" + stickers_data['store'] + \"_\" + stickers_data['product'] \n",
    "\n",
    "# Value count by category\n",
    "print(\"Value count by category\")\n",
    "print(stickers_data['category'].value_counts())\n",
    "\n",
    "print()\n",
    "\n",
    "# Null value count by category\n",
    "print(\"Null Value count by category\")\n",
    "print(stickers_data[stickers_data['num_sold'].isna()]['category'].value_counts())"
   ]
  },
  {
   "cell_type": "markdown",
   "id": "8f4610bc",
   "metadata": {
    "papermill": {
     "duration": 0.01165,
     "end_time": "2025-01-26T11:59:39.322238",
     "exception": false,
     "start_time": "2025-01-26T11:59:39.310588",
     "status": "completed"
    },
    "tags": []
   },
   "source": [
    "Inference: Two of the categories have no values at all. Best to drop null values rather than imputing with forward/backward fill method or global mean."
   ]
  },
  {
   "cell_type": "code",
   "execution_count": 13,
   "id": "749464e1",
   "metadata": {
    "execution": {
     "iopub.execute_input": "2025-01-26T11:59:39.343375Z",
     "iopub.status.busy": "2025-01-26T11:59:39.342997Z",
     "iopub.status.idle": "2025-01-26T11:59:39.493241Z",
     "shell.execute_reply": "2025-01-26T11:59:39.491799Z"
    },
    "papermill": {
     "duration": 0.162841,
     "end_time": "2025-01-26T11:59:39.494926",
     "exception": false,
     "start_time": "2025-01-26T11:59:39.332085",
     "status": "completed"
    },
    "tags": []
   },
   "outputs": [
    {
     "name": "stdout",
     "output_type": "stream",
     "text": [
      "date        0\n",
      "country     0\n",
      "store       0\n",
      "product     0\n",
      "num_sold    0\n",
      "dtype: int64\n",
      "\n",
      "         date country              store             product  num_sold\n",
      "1  2010-01-01  Canada  Discount Stickers              Kaggle     973.0\n",
      "2  2010-01-01  Canada  Discount Stickers        Kaggle Tiers     906.0\n",
      "3  2010-01-01  Canada  Discount Stickers            Kerneler     423.0\n",
      "4  2010-01-01  Canada  Discount Stickers  Kerneler Dark Mode     491.0\n",
      "5  2010-01-01  Canada  Stickers for Less   Holographic Goose     300.0\n"
     ]
    }
   ],
   "source": [
    "# Dropping null values\n",
    "stickers_data = stickers_data.dropna()\n",
    "\n",
    "# Dropping 'category' column\n",
    "stickers_data = stickers_data.drop('category', axis=1)\n",
    "\n",
    "print(stickers_data.isna().sum())\n",
    "print()\n",
    "print(stickers_data.head())"
   ]
  },
  {
   "cell_type": "code",
   "execution_count": 14,
   "id": "d2e1ed0a",
   "metadata": {
    "execution": {
     "iopub.execute_input": "2025-01-26T11:59:39.516668Z",
     "iopub.status.busy": "2025-01-26T11:59:39.516300Z",
     "iopub.status.idle": "2025-01-26T11:59:39.550386Z",
     "shell.execute_reply": "2025-01-26T11:59:39.549359Z"
    },
    "papermill": {
     "duration": 0.046772,
     "end_time": "2025-01-26T11:59:39.552143",
     "exception": false,
     "start_time": "2025-01-26T11:59:39.505371",
     "status": "completed"
    },
    "tags": []
   },
   "outputs": [
    {
     "data": {
      "text/plain": [
       "dtype('<M8[ns]')"
      ]
     },
     "execution_count": 14,
     "metadata": {},
     "output_type": "execute_result"
    }
   ],
   "source": [
    "# 3. Converting \"date\" column to datetime datatype\n",
    "stickers_data['date'] = pd.to_datetime(stickers_data['date'])\n",
    "stickers_data['date'].dtype"
   ]
  },
  {
   "cell_type": "code",
   "execution_count": 15,
   "id": "e7f1630f",
   "metadata": {
    "execution": {
     "iopub.execute_input": "2025-01-26T11:59:39.573031Z",
     "iopub.status.busy": "2025-01-26T11:59:39.572682Z",
     "iopub.status.idle": "2025-01-26T11:59:39.614751Z",
     "shell.execute_reply": "2025-01-26T11:59:39.613699Z"
    },
    "papermill": {
     "duration": 0.054258,
     "end_time": "2025-01-26T11:59:39.616371",
     "exception": false,
     "start_time": "2025-01-26T11:59:39.562113",
     "status": "completed"
    },
    "tags": []
   },
   "outputs": [
    {
     "data": {
      "text/html": [
       "<div>\n",
       "<style scoped>\n",
       "    .dataframe tbody tr th:only-of-type {\n",
       "        vertical-align: middle;\n",
       "    }\n",
       "\n",
       "    .dataframe tbody tr th {\n",
       "        vertical-align: top;\n",
       "    }\n",
       "\n",
       "    .dataframe thead th {\n",
       "        text-align: right;\n",
       "    }\n",
       "</style>\n",
       "<table border=\"1\" class=\"dataframe\">\n",
       "  <thead>\n",
       "    <tr style=\"text-align: right;\">\n",
       "      <th></th>\n",
       "      <th>date</th>\n",
       "      <th>country</th>\n",
       "      <th>store</th>\n",
       "      <th>product</th>\n",
       "      <th>num_sold</th>\n",
       "      <th>day</th>\n",
       "      <th>month</th>\n",
       "      <th>year</th>\n",
       "      <th>weekday</th>\n",
       "    </tr>\n",
       "  </thead>\n",
       "  <tbody>\n",
       "    <tr>\n",
       "      <th>1</th>\n",
       "      <td>2010-01-01</td>\n",
       "      <td>Canada</td>\n",
       "      <td>Discount Stickers</td>\n",
       "      <td>Kaggle</td>\n",
       "      <td>973.0</td>\n",
       "      <td>1</td>\n",
       "      <td>1</td>\n",
       "      <td>2010</td>\n",
       "      <td>4</td>\n",
       "    </tr>\n",
       "    <tr>\n",
       "      <th>2</th>\n",
       "      <td>2010-01-01</td>\n",
       "      <td>Canada</td>\n",
       "      <td>Discount Stickers</td>\n",
       "      <td>Kaggle Tiers</td>\n",
       "      <td>906.0</td>\n",
       "      <td>1</td>\n",
       "      <td>1</td>\n",
       "      <td>2010</td>\n",
       "      <td>4</td>\n",
       "    </tr>\n",
       "    <tr>\n",
       "      <th>3</th>\n",
       "      <td>2010-01-01</td>\n",
       "      <td>Canada</td>\n",
       "      <td>Discount Stickers</td>\n",
       "      <td>Kerneler</td>\n",
       "      <td>423.0</td>\n",
       "      <td>1</td>\n",
       "      <td>1</td>\n",
       "      <td>2010</td>\n",
       "      <td>4</td>\n",
       "    </tr>\n",
       "    <tr>\n",
       "      <th>4</th>\n",
       "      <td>2010-01-01</td>\n",
       "      <td>Canada</td>\n",
       "      <td>Discount Stickers</td>\n",
       "      <td>Kerneler Dark Mode</td>\n",
       "      <td>491.0</td>\n",
       "      <td>1</td>\n",
       "      <td>1</td>\n",
       "      <td>2010</td>\n",
       "      <td>4</td>\n",
       "    </tr>\n",
       "    <tr>\n",
       "      <th>5</th>\n",
       "      <td>2010-01-01</td>\n",
       "      <td>Canada</td>\n",
       "      <td>Stickers for Less</td>\n",
       "      <td>Holographic Goose</td>\n",
       "      <td>300.0</td>\n",
       "      <td>1</td>\n",
       "      <td>1</td>\n",
       "      <td>2010</td>\n",
       "      <td>4</td>\n",
       "    </tr>\n",
       "  </tbody>\n",
       "</table>\n",
       "</div>"
      ],
      "text/plain": [
       "        date country              store             product  num_sold  day  \\\n",
       "1 2010-01-01  Canada  Discount Stickers              Kaggle     973.0    1   \n",
       "2 2010-01-01  Canada  Discount Stickers        Kaggle Tiers     906.0    1   \n",
       "3 2010-01-01  Canada  Discount Stickers            Kerneler     423.0    1   \n",
       "4 2010-01-01  Canada  Discount Stickers  Kerneler Dark Mode     491.0    1   \n",
       "5 2010-01-01  Canada  Stickers for Less   Holographic Goose     300.0    1   \n",
       "\n",
       "   month  year  weekday  \n",
       "1      1  2010        4  \n",
       "2      1  2010        4  \n",
       "3      1  2010        4  \n",
       "4      1  2010        4  \n",
       "5      1  2010        4  "
      ]
     },
     "execution_count": 15,
     "metadata": {},
     "output_type": "execute_result"
    }
   ],
   "source": [
    "# 4. Extracting Date features like day, month, year and weekday\n",
    "stickers_data['day'] = stickers_data['date'].dt.day\n",
    "stickers_data['month'] = stickers_data['date'].dt.month\n",
    "stickers_data['year'] = stickers_data['date'].dt.year\n",
    "stickers_data['weekday'] = stickers_data['date'].dt.weekday\n",
    "\n",
    "stickers_data.head()"
   ]
  },
  {
   "cell_type": "code",
   "execution_count": 16,
   "id": "48ef00cd",
   "metadata": {
    "execution": {
     "iopub.execute_input": "2025-01-26T11:59:39.638108Z",
     "iopub.status.busy": "2025-01-26T11:59:39.637777Z",
     "iopub.status.idle": "2025-01-26T11:59:39.661983Z",
     "shell.execute_reply": "2025-01-26T11:59:39.660747Z"
    },
    "papermill": {
     "duration": 0.037442,
     "end_time": "2025-01-26T11:59:39.664200",
     "exception": false,
     "start_time": "2025-01-26T11:59:39.626758",
     "status": "completed"
    },
    "tags": []
   },
   "outputs": [
    {
     "data": {
      "text/html": [
       "<div>\n",
       "<style scoped>\n",
       "    .dataframe tbody tr th:only-of-type {\n",
       "        vertical-align: middle;\n",
       "    }\n",
       "\n",
       "    .dataframe tbody tr th {\n",
       "        vertical-align: top;\n",
       "    }\n",
       "\n",
       "    .dataframe thead th {\n",
       "        text-align: right;\n",
       "    }\n",
       "</style>\n",
       "<table border=\"1\" class=\"dataframe\">\n",
       "  <thead>\n",
       "    <tr style=\"text-align: right;\">\n",
       "      <th></th>\n",
       "      <th>country</th>\n",
       "      <th>store</th>\n",
       "      <th>product</th>\n",
       "      <th>num_sold</th>\n",
       "      <th>day</th>\n",
       "      <th>month</th>\n",
       "      <th>year</th>\n",
       "      <th>weekday</th>\n",
       "    </tr>\n",
       "    <tr>\n",
       "      <th>date</th>\n",
       "      <th></th>\n",
       "      <th></th>\n",
       "      <th></th>\n",
       "      <th></th>\n",
       "      <th></th>\n",
       "      <th></th>\n",
       "      <th></th>\n",
       "      <th></th>\n",
       "    </tr>\n",
       "  </thead>\n",
       "  <tbody>\n",
       "    <tr>\n",
       "      <th>2010-01-01</th>\n",
       "      <td>Canada</td>\n",
       "      <td>Discount Stickers</td>\n",
       "      <td>Kaggle</td>\n",
       "      <td>973.0</td>\n",
       "      <td>1</td>\n",
       "      <td>1</td>\n",
       "      <td>2010</td>\n",
       "      <td>4</td>\n",
       "    </tr>\n",
       "    <tr>\n",
       "      <th>2010-01-01</th>\n",
       "      <td>Canada</td>\n",
       "      <td>Discount Stickers</td>\n",
       "      <td>Kaggle Tiers</td>\n",
       "      <td>906.0</td>\n",
       "      <td>1</td>\n",
       "      <td>1</td>\n",
       "      <td>2010</td>\n",
       "      <td>4</td>\n",
       "    </tr>\n",
       "    <tr>\n",
       "      <th>2010-01-01</th>\n",
       "      <td>Canada</td>\n",
       "      <td>Discount Stickers</td>\n",
       "      <td>Kerneler</td>\n",
       "      <td>423.0</td>\n",
       "      <td>1</td>\n",
       "      <td>1</td>\n",
       "      <td>2010</td>\n",
       "      <td>4</td>\n",
       "    </tr>\n",
       "    <tr>\n",
       "      <th>2010-01-01</th>\n",
       "      <td>Canada</td>\n",
       "      <td>Discount Stickers</td>\n",
       "      <td>Kerneler Dark Mode</td>\n",
       "      <td>491.0</td>\n",
       "      <td>1</td>\n",
       "      <td>1</td>\n",
       "      <td>2010</td>\n",
       "      <td>4</td>\n",
       "    </tr>\n",
       "    <tr>\n",
       "      <th>2010-01-01</th>\n",
       "      <td>Canada</td>\n",
       "      <td>Stickers for Less</td>\n",
       "      <td>Holographic Goose</td>\n",
       "      <td>300.0</td>\n",
       "      <td>1</td>\n",
       "      <td>1</td>\n",
       "      <td>2010</td>\n",
       "      <td>4</td>\n",
       "    </tr>\n",
       "  </tbody>\n",
       "</table>\n",
       "</div>"
      ],
      "text/plain": [
       "           country              store             product  num_sold  day  \\\n",
       "date                                                                       \n",
       "2010-01-01  Canada  Discount Stickers              Kaggle     973.0    1   \n",
       "2010-01-01  Canada  Discount Stickers        Kaggle Tiers     906.0    1   \n",
       "2010-01-01  Canada  Discount Stickers            Kerneler     423.0    1   \n",
       "2010-01-01  Canada  Discount Stickers  Kerneler Dark Mode     491.0    1   \n",
       "2010-01-01  Canada  Stickers for Less   Holographic Goose     300.0    1   \n",
       "\n",
       "            month  year  weekday  \n",
       "date                              \n",
       "2010-01-01      1  2010        4  \n",
       "2010-01-01      1  2010        4  \n",
       "2010-01-01      1  2010        4  \n",
       "2010-01-01      1  2010        4  \n",
       "2010-01-01      1  2010        4  "
      ]
     },
     "execution_count": 16,
     "metadata": {},
     "output_type": "execute_result"
    }
   ],
   "source": [
    "# 5. Setting date column as index column.\n",
    "\n",
    "stickers_data = stickers_data.set_index('date')\n",
    "\n",
    "stickers_data.head()"
   ]
  },
  {
   "cell_type": "code",
   "execution_count": 17,
   "id": "910bc572",
   "metadata": {
    "execution": {
     "iopub.execute_input": "2025-01-26T11:59:39.687010Z",
     "iopub.status.busy": "2025-01-26T11:59:39.686647Z",
     "iopub.status.idle": "2025-01-26T11:59:39.813607Z",
     "shell.execute_reply": "2025-01-26T11:59:39.812549Z"
    },
    "papermill": {
     "duration": 0.140236,
     "end_time": "2025-01-26T11:59:39.815236",
     "exception": false,
     "start_time": "2025-01-26T11:59:39.675000",
     "status": "completed"
    },
    "tags": []
   },
   "outputs": [
    {
     "data": {
      "text/html": [
       "<div>\n",
       "<style scoped>\n",
       "    .dataframe tbody tr th:only-of-type {\n",
       "        vertical-align: middle;\n",
       "    }\n",
       "\n",
       "    .dataframe tbody tr th {\n",
       "        vertical-align: top;\n",
       "    }\n",
       "\n",
       "    .dataframe thead th {\n",
       "        text-align: right;\n",
       "    }\n",
       "</style>\n",
       "<table border=\"1\" class=\"dataframe\">\n",
       "  <thead>\n",
       "    <tr style=\"text-align: right;\">\n",
       "      <th></th>\n",
       "      <th>num_sold</th>\n",
       "      <th>day</th>\n",
       "      <th>month</th>\n",
       "      <th>year</th>\n",
       "      <th>weekday</th>\n",
       "      <th>Canada</th>\n",
       "      <th>Finland</th>\n",
       "      <th>Italy</th>\n",
       "      <th>Kenya</th>\n",
       "      <th>Norway</th>\n",
       "      <th>Singapore</th>\n",
       "      <th>Discount Stickers</th>\n",
       "      <th>Premium Sticker Mart</th>\n",
       "      <th>Stickers for Less</th>\n",
       "      <th>Holographic Goose</th>\n",
       "      <th>Kaggle</th>\n",
       "      <th>Kaggle Tiers</th>\n",
       "      <th>Kerneler</th>\n",
       "      <th>Kerneler Dark Mode</th>\n",
       "    </tr>\n",
       "    <tr>\n",
       "      <th>date</th>\n",
       "      <th></th>\n",
       "      <th></th>\n",
       "      <th></th>\n",
       "      <th></th>\n",
       "      <th></th>\n",
       "      <th></th>\n",
       "      <th></th>\n",
       "      <th></th>\n",
       "      <th></th>\n",
       "      <th></th>\n",
       "      <th></th>\n",
       "      <th></th>\n",
       "      <th></th>\n",
       "      <th></th>\n",
       "      <th></th>\n",
       "      <th></th>\n",
       "      <th></th>\n",
       "      <th></th>\n",
       "      <th></th>\n",
       "    </tr>\n",
       "  </thead>\n",
       "  <tbody>\n",
       "    <tr>\n",
       "      <th>2010-01-01</th>\n",
       "      <td>973.0</td>\n",
       "      <td>1</td>\n",
       "      <td>1</td>\n",
       "      <td>2010</td>\n",
       "      <td>4</td>\n",
       "      <td>True</td>\n",
       "      <td>False</td>\n",
       "      <td>False</td>\n",
       "      <td>False</td>\n",
       "      <td>False</td>\n",
       "      <td>False</td>\n",
       "      <td>True</td>\n",
       "      <td>False</td>\n",
       "      <td>False</td>\n",
       "      <td>False</td>\n",
       "      <td>True</td>\n",
       "      <td>False</td>\n",
       "      <td>False</td>\n",
       "      <td>False</td>\n",
       "    </tr>\n",
       "    <tr>\n",
       "      <th>2010-01-01</th>\n",
       "      <td>906.0</td>\n",
       "      <td>1</td>\n",
       "      <td>1</td>\n",
       "      <td>2010</td>\n",
       "      <td>4</td>\n",
       "      <td>True</td>\n",
       "      <td>False</td>\n",
       "      <td>False</td>\n",
       "      <td>False</td>\n",
       "      <td>False</td>\n",
       "      <td>False</td>\n",
       "      <td>True</td>\n",
       "      <td>False</td>\n",
       "      <td>False</td>\n",
       "      <td>False</td>\n",
       "      <td>False</td>\n",
       "      <td>True</td>\n",
       "      <td>False</td>\n",
       "      <td>False</td>\n",
       "    </tr>\n",
       "    <tr>\n",
       "      <th>2010-01-01</th>\n",
       "      <td>423.0</td>\n",
       "      <td>1</td>\n",
       "      <td>1</td>\n",
       "      <td>2010</td>\n",
       "      <td>4</td>\n",
       "      <td>True</td>\n",
       "      <td>False</td>\n",
       "      <td>False</td>\n",
       "      <td>False</td>\n",
       "      <td>False</td>\n",
       "      <td>False</td>\n",
       "      <td>True</td>\n",
       "      <td>False</td>\n",
       "      <td>False</td>\n",
       "      <td>False</td>\n",
       "      <td>False</td>\n",
       "      <td>False</td>\n",
       "      <td>True</td>\n",
       "      <td>False</td>\n",
       "    </tr>\n",
       "    <tr>\n",
       "      <th>2010-01-01</th>\n",
       "      <td>491.0</td>\n",
       "      <td>1</td>\n",
       "      <td>1</td>\n",
       "      <td>2010</td>\n",
       "      <td>4</td>\n",
       "      <td>True</td>\n",
       "      <td>False</td>\n",
       "      <td>False</td>\n",
       "      <td>False</td>\n",
       "      <td>False</td>\n",
       "      <td>False</td>\n",
       "      <td>True</td>\n",
       "      <td>False</td>\n",
       "      <td>False</td>\n",
       "      <td>False</td>\n",
       "      <td>False</td>\n",
       "      <td>False</td>\n",
       "      <td>False</td>\n",
       "      <td>True</td>\n",
       "    </tr>\n",
       "    <tr>\n",
       "      <th>2010-01-01</th>\n",
       "      <td>300.0</td>\n",
       "      <td>1</td>\n",
       "      <td>1</td>\n",
       "      <td>2010</td>\n",
       "      <td>4</td>\n",
       "      <td>True</td>\n",
       "      <td>False</td>\n",
       "      <td>False</td>\n",
       "      <td>False</td>\n",
       "      <td>False</td>\n",
       "      <td>False</td>\n",
       "      <td>False</td>\n",
       "      <td>False</td>\n",
       "      <td>True</td>\n",
       "      <td>True</td>\n",
       "      <td>False</td>\n",
       "      <td>False</td>\n",
       "      <td>False</td>\n",
       "      <td>False</td>\n",
       "    </tr>\n",
       "  </tbody>\n",
       "</table>\n",
       "</div>"
      ],
      "text/plain": [
       "            num_sold  day  month  year  weekday  Canada  Finland  Italy  \\\n",
       "date                                                                      \n",
       "2010-01-01     973.0    1      1  2010        4    True    False  False   \n",
       "2010-01-01     906.0    1      1  2010        4    True    False  False   \n",
       "2010-01-01     423.0    1      1  2010        4    True    False  False   \n",
       "2010-01-01     491.0    1      1  2010        4    True    False  False   \n",
       "2010-01-01     300.0    1      1  2010        4    True    False  False   \n",
       "\n",
       "            Kenya  Norway  Singapore  Discount Stickers  Premium Sticker Mart  \\\n",
       "date                                                                            \n",
       "2010-01-01  False   False      False               True                 False   \n",
       "2010-01-01  False   False      False               True                 False   \n",
       "2010-01-01  False   False      False               True                 False   \n",
       "2010-01-01  False   False      False               True                 False   \n",
       "2010-01-01  False   False      False              False                 False   \n",
       "\n",
       "            Stickers for Less  Holographic Goose  Kaggle  Kaggle Tiers  \\\n",
       "date                                                                     \n",
       "2010-01-01              False              False    True         False   \n",
       "2010-01-01              False              False   False          True   \n",
       "2010-01-01              False              False   False         False   \n",
       "2010-01-01              False              False   False         False   \n",
       "2010-01-01               True               True   False         False   \n",
       "\n",
       "            Kerneler  Kerneler Dark Mode  \n",
       "date                                      \n",
       "2010-01-01     False               False  \n",
       "2010-01-01     False               False  \n",
       "2010-01-01      True               False  \n",
       "2010-01-01     False                True  \n",
       "2010-01-01     False               False  "
      ]
     },
     "execution_count": 17,
     "metadata": {},
     "output_type": "execute_result"
    }
   ],
   "source": [
    "# 6. Encode 'country', 'store' and 'product' column.\n",
    "\n",
    "# Creating a function to encode columns.\n",
    "def encode_column(dataset, column_name):\n",
    "    var = pd.get_dummies(dataset[column_name])\n",
    "    dataset = pd.concat([dataset, var], axis=1)\n",
    "    dataset = dataset.drop(column_name, axis=1)\n",
    "    return dataset\n",
    "\n",
    "# Encoding columns\n",
    "stickers_data = encode_column(stickers_data, 'country') # Country column\n",
    "stickers_data = encode_column(stickers_data, 'store')   # Store column\n",
    "stickers_data = encode_column(stickers_data, 'product') # Product column\n",
    "\n",
    "stickers_data.head()"
   ]
  },
  {
   "cell_type": "markdown",
   "id": "07b67cc1",
   "metadata": {
    "papermill": {
     "duration": 0.010885,
     "end_time": "2025-01-26T11:59:39.836954",
     "exception": false,
     "start_time": "2025-01-26T11:59:39.826069",
     "status": "completed"
    },
    "tags": []
   },
   "source": [
    "### Independent-Dependent || Train-Test Split"
   ]
  },
  {
   "cell_type": "code",
   "execution_count": 18,
   "id": "b53d6911",
   "metadata": {
    "execution": {
     "iopub.execute_input": "2025-01-26T11:59:39.860120Z",
     "iopub.status.busy": "2025-01-26T11:59:39.859698Z",
     "iopub.status.idle": "2025-01-26T11:59:39.878802Z",
     "shell.execute_reply": "2025-01-26T11:59:39.877612Z"
    },
    "papermill": {
     "duration": 0.033197,
     "end_time": "2025-01-26T11:59:39.880906",
     "exception": false,
     "start_time": "2025-01-26T11:59:39.847709",
     "status": "completed"
    },
    "tags": []
   },
   "outputs": [],
   "source": [
    "# Split data into training and testing sets\n",
    "train = stickers_data['2010-01-01':'2015-12-31']   # Training with 6 years of data\n",
    "test = stickers_data['2016-01-01':'2016-12-31']    # Testing with 1 year of data"
   ]
  },
  {
   "cell_type": "code",
   "execution_count": 19,
   "id": "eb67f1f3",
   "metadata": {
    "execution": {
     "iopub.execute_input": "2025-01-26T11:59:39.904681Z",
     "iopub.status.busy": "2025-01-26T11:59:39.904294Z",
     "iopub.status.idle": "2025-01-26T11:59:39.910313Z",
     "shell.execute_reply": "2025-01-26T11:59:39.909055Z"
    },
    "papermill": {
     "duration": 0.020258,
     "end_time": "2025-01-26T11:59:39.912349",
     "exception": false,
     "start_time": "2025-01-26T11:59:39.892091",
     "status": "completed"
    },
    "tags": []
   },
   "outputs": [
    {
     "data": {
      "text/plain": [
       "\"\\nThis one is for ANN model\\n\\n# Separate features and target\\nX_train = np.array(train.drop('num_sold', axis=1), dtype=np.float32)\\ny_train = np.array(train['num_sold'], dtype=np.float32)\\nX_test = np.array(test.drop('num_sold', axis=1), dtype=np.float32)\\ny_test = np.array(test['num_sold'], dtype=np.float32)\\n\\nprint(f'X_train shape: {X_train.shape}')\\nprint(f'y_train shape: {y_train.shape}')\\nprint(f'X_test shape: {X_test.shape}')\\nprint(f'X_test shape: {y_test.shape}')\\n\""
      ]
     },
     "execution_count": 19,
     "metadata": {},
     "output_type": "execute_result"
    }
   ],
   "source": [
    "'''\n",
    "This one is for ANN model\n",
    "\n",
    "# Separate features and target\n",
    "X_train = np.array(train.drop('num_sold', axis=1), dtype=np.float32)\n",
    "y_train = np.array(train['num_sold'], dtype=np.float32)\n",
    "X_test = np.array(test.drop('num_sold', axis=1), dtype=np.float32)\n",
    "y_test = np.array(test['num_sold'], dtype=np.float32)\n",
    "\n",
    "print(f'X_train shape: {X_train.shape}')\n",
    "print(f'y_train shape: {y_train.shape}')\n",
    "print(f'X_test shape: {X_test.shape}')\n",
    "print(f'X_test shape: {y_test.shape}')\n",
    "'''"
   ]
  },
  {
   "cell_type": "code",
   "execution_count": 20,
   "id": "3b4f196c",
   "metadata": {
    "execution": {
     "iopub.execute_input": "2025-01-26T11:59:39.935268Z",
     "iopub.status.busy": "2025-01-26T11:59:39.934940Z",
     "iopub.status.idle": "2025-01-26T11:59:39.945781Z",
     "shell.execute_reply": "2025-01-26T11:59:39.944708Z"
    },
    "papermill": {
     "duration": 0.024123,
     "end_time": "2025-01-26T11:59:39.947330",
     "exception": false,
     "start_time": "2025-01-26T11:59:39.923207",
     "status": "completed"
    },
    "tags": []
   },
   "outputs": [
    {
     "name": "stdout",
     "output_type": "stream",
     "text": [
      "X_train shape: (189492, 18)\n",
      "y_train shape: (189492,)\n",
      "X_test shape: (31767, 18)\n",
      "X_test shape: (31767,)\n"
     ]
    }
   ],
   "source": [
    "# For Random Forest model\n",
    "\n",
    "# Separate features and target\n",
    "X_train = train.drop('num_sold', axis=1)\n",
    "y_train = train['num_sold']\n",
    "X_test = test.drop('num_sold', axis=1)\n",
    "y_test = test['num_sold']\n",
    "\n",
    "print(f'X_train shape: {X_train.shape}')\n",
    "print(f'y_train shape: {y_train.shape}')\n",
    "print(f'X_test shape: {X_test.shape}')\n",
    "print(f'X_test shape: {y_test.shape}')"
   ]
  },
  {
   "cell_type": "code",
   "execution_count": 21,
   "id": "36d43271",
   "metadata": {
    "execution": {
     "iopub.execute_input": "2025-01-26T11:59:39.969754Z",
     "iopub.status.busy": "2025-01-26T11:59:39.969384Z",
     "iopub.status.idle": "2025-01-26T11:59:39.976567Z",
     "shell.execute_reply": "2025-01-26T11:59:39.975760Z"
    },
    "papermill": {
     "duration": 0.02011,
     "end_time": "2025-01-26T11:59:39.978139",
     "exception": false,
     "start_time": "2025-01-26T11:59:39.958029",
     "status": "completed"
    },
    "tags": []
   },
   "outputs": [
    {
     "data": {
      "text/plain": [
       "date\n",
       "2010-01-01     973.0\n",
       "2010-01-01     906.0\n",
       "2010-01-01     423.0\n",
       "2010-01-01     491.0\n",
       "2010-01-01     300.0\n",
       "               ...  \n",
       "2015-12-31     387.0\n",
       "2015-12-31    2224.0\n",
       "2015-12-31    1995.0\n",
       "2015-12-31    1110.0\n",
       "2015-12-31    1175.0\n",
       "Name: num_sold, Length: 189492, dtype: float64"
      ]
     },
     "execution_count": 21,
     "metadata": {},
     "output_type": "execute_result"
    }
   ],
   "source": [
    "y_train"
   ]
  },
  {
   "cell_type": "code",
   "execution_count": 22,
   "id": "817ed306",
   "metadata": {
    "execution": {
     "iopub.execute_input": "2025-01-26T11:59:40.000996Z",
     "iopub.status.busy": "2025-01-26T11:59:40.000609Z",
     "iopub.status.idle": "2025-01-26T11:59:40.226533Z",
     "shell.execute_reply": "2025-01-26T11:59:40.225590Z"
    },
    "papermill": {
     "duration": 0.239394,
     "end_time": "2025-01-26T11:59:40.228437",
     "exception": false,
     "start_time": "2025-01-26T11:59:39.989043",
     "status": "completed"
    },
    "tags": []
   },
   "outputs": [],
   "source": [
    "# Scaling data\n",
    "\n",
    "# Innitializing scaler\n",
    "x_scaler = StandardScaler()\n",
    "y_scaler = StandardScaler()\n",
    "\n",
    "# Scaling X\n",
    "x_scaler.fit(X_train)\n",
    "X_train = x_scaler.transform(X_train)\n",
    "X_test = x_scaler.transform(X_test)\n",
    "\n",
    "# Scaling y\n",
    "y_scaler.fit(y_train.values.reshape(-1, 1))\n",
    "y_train = y_scaler.transform(y_train.values.reshape(-1, 1))\n",
    "y_test = y_scaler.transform(y_test.values.reshape(-1, 1))"
   ]
  },
  {
   "cell_type": "code",
   "execution_count": null,
   "id": "977e2516",
   "metadata": {
    "execution": {
     "iopub.execute_input": "2025-01-26T11:34:19.003260Z",
     "iopub.status.busy": "2025-01-26T11:34:19.002908Z",
     "iopub.status.idle": "2025-01-26T11:34:19.010573Z",
     "shell.execute_reply": "2025-01-26T11:34:19.009322Z",
     "shell.execute_reply.started": "2025-01-26T11:34:19.003231Z"
    },
    "papermill": {
     "duration": 0.010373,
     "end_time": "2025-01-26T11:59:40.250105",
     "exception": false,
     "start_time": "2025-01-26T11:59:40.239732",
     "status": "completed"
    },
    "tags": []
   },
   "outputs": [],
   "source": []
  },
  {
   "cell_type": "markdown",
   "id": "a207db7c",
   "metadata": {
    "papermill": {
     "duration": 0.01053,
     "end_time": "2025-01-26T11:59:40.271443",
     "exception": false,
     "start_time": "2025-01-26T11:59:40.260913",
     "status": "completed"
    },
    "tags": []
   },
   "source": [
    "### Creating/Importing and training model"
   ]
  },
  {
   "cell_type": "code",
   "execution_count": 23,
   "id": "6985af5f",
   "metadata": {
    "execution": {
     "iopub.execute_input": "2025-01-26T11:59:40.294290Z",
     "iopub.status.busy": "2025-01-26T11:59:40.293963Z",
     "iopub.status.idle": "2025-01-26T11:59:40.299582Z",
     "shell.execute_reply": "2025-01-26T11:59:40.298696Z"
    },
    "papermill": {
     "duration": 0.019001,
     "end_time": "2025-01-26T11:59:40.301164",
     "exception": false,
     "start_time": "2025-01-26T11:59:40.282163",
     "status": "completed"
    },
    "tags": []
   },
   "outputs": [
    {
     "data": {
      "text/plain": [
       "'\\n# Input shape for Ann model\\ninput_shape = X_train[0].shape\\n\\n# Creating model\\nann_model = Sequential([\\n    Dense(64, activation=\\'relu\\', input_shape=(input_shape)),\\n    Dense(32, activation=\\'relu\\'),\\n    Dense(1)    \\n])\\n\\n# Configuring model\\nann_model.compile(optimizer=\"adam\", loss=\"mae\", metrics=[\"mape\"])\\n'"
      ]
     },
     "execution_count": 23,
     "metadata": {},
     "output_type": "execute_result"
    }
   ],
   "source": [
    "'''\n",
    "# Input shape for Ann model\n",
    "input_shape = X_train[0].shape\n",
    "\n",
    "# Creating model\n",
    "ann_model = Sequential([\n",
    "    Dense(64, activation='relu', input_shape=(input_shape)),\n",
    "    Dense(32, activation='relu'),\n",
    "    Dense(1)    \n",
    "])\n",
    "\n",
    "# Configuring model\n",
    "ann_model.compile(optimizer=\"adam\", loss=\"mae\", metrics=[\"mape\"])\n",
    "'''"
   ]
  },
  {
   "cell_type": "code",
   "execution_count": 24,
   "id": "2355016e",
   "metadata": {
    "execution": {
     "iopub.execute_input": "2025-01-26T11:59:40.324100Z",
     "iopub.status.busy": "2025-01-26T11:59:40.323745Z",
     "iopub.status.idle": "2025-01-26T11:59:40.329185Z",
     "shell.execute_reply": "2025-01-26T11:59:40.328118Z"
    },
    "papermill": {
     "duration": 0.018659,
     "end_time": "2025-01-26T11:59:40.330792",
     "exception": false,
     "start_time": "2025-01-26T11:59:40.312133",
     "status": "completed"
    },
    "tags": []
   },
   "outputs": [
    {
     "data": {
      "text/plain": [
       "\"\\n# Prediction\\ny_pred = model.predict(X_test)\\n\\n# Inverse scaling\\ny_pred = scaler.inverse_transform(y_pred)\\n\\ny_pred = y_pred.flatten()\\ny_test = scaler.inverse_transform(y_test.reshape(-1,1)).flatten()\\nresults = pd.DataFrame({'Predicted':y_pred, 'Actual':y_test})\\n\\nfrom sklearn.metrics import r2_score\\nscore = r2_score(y_pred, y_test)\\nprint(f'ANN Model's score: {score})\\nprint()\\nresults\\n\""
      ]
     },
     "execution_count": 24,
     "metadata": {},
     "output_type": "execute_result"
    }
   ],
   "source": [
    "'''\n",
    "# Prediction\n",
    "y_pred = model.predict(X_test)\n",
    "\n",
    "# Inverse scaling\n",
    "y_pred = scaler.inverse_transform(y_pred)\n",
    "\n",
    "y_pred = y_pred.flatten()\n",
    "y_test = scaler.inverse_transform(y_test.reshape(-1,1)).flatten()\n",
    "results = pd.DataFrame({'Predicted':y_pred, 'Actual':y_test})\n",
    "\n",
    "from sklearn.metrics import r2_score\n",
    "score = r2_score(y_pred, y_test)\n",
    "print(f'ANN Model's score: {score})\n",
    "print()\n",
    "results\n",
    "'''"
   ]
  },
  {
   "cell_type": "code",
   "execution_count": 25,
   "id": "cda1a099",
   "metadata": {
    "execution": {
     "iopub.execute_input": "2025-01-26T11:59:40.355267Z",
     "iopub.status.busy": "2025-01-26T11:59:40.354920Z",
     "iopub.status.idle": "2025-01-26T12:00:38.218467Z",
     "shell.execute_reply": "2025-01-26T12:00:38.217379Z"
    },
    "papermill": {
     "duration": 57.888376,
     "end_time": "2025-01-26T12:00:38.231144",
     "exception": false,
     "start_time": "2025-01-26T11:59:40.342768",
     "status": "completed"
    },
    "tags": []
   },
   "outputs": [
    {
     "name": "stderr",
     "output_type": "stream",
     "text": [
      "<ipython-input-25-45bb3e219586>:5: DataConversionWarning: A column-vector y was passed when a 1d array was expected. Please change the shape of y to (n_samples,), for example using ravel().\n",
      "  rf_model.fit(X_train, y_train)\n"
     ]
    },
    {
     "data": {
      "text/html": [
       "<style>#sk-container-id-1 {color: black;background-color: white;}#sk-container-id-1 pre{padding: 0;}#sk-container-id-1 div.sk-toggleable {background-color: white;}#sk-container-id-1 label.sk-toggleable__label {cursor: pointer;display: block;width: 100%;margin-bottom: 0;padding: 0.3em;box-sizing: border-box;text-align: center;}#sk-container-id-1 label.sk-toggleable__label-arrow:before {content: \"▸\";float: left;margin-right: 0.25em;color: #696969;}#sk-container-id-1 label.sk-toggleable__label-arrow:hover:before {color: black;}#sk-container-id-1 div.sk-estimator:hover label.sk-toggleable__label-arrow:before {color: black;}#sk-container-id-1 div.sk-toggleable__content {max-height: 0;max-width: 0;overflow: hidden;text-align: left;background-color: #f0f8ff;}#sk-container-id-1 div.sk-toggleable__content pre {margin: 0.2em;color: black;border-radius: 0.25em;background-color: #f0f8ff;}#sk-container-id-1 input.sk-toggleable__control:checked~div.sk-toggleable__content {max-height: 200px;max-width: 100%;overflow: auto;}#sk-container-id-1 input.sk-toggleable__control:checked~label.sk-toggleable__label-arrow:before {content: \"▾\";}#sk-container-id-1 div.sk-estimator input.sk-toggleable__control:checked~label.sk-toggleable__label {background-color: #d4ebff;}#sk-container-id-1 div.sk-label input.sk-toggleable__control:checked~label.sk-toggleable__label {background-color: #d4ebff;}#sk-container-id-1 input.sk-hidden--visually {border: 0;clip: rect(1px 1px 1px 1px);clip: rect(1px, 1px, 1px, 1px);height: 1px;margin: -1px;overflow: hidden;padding: 0;position: absolute;width: 1px;}#sk-container-id-1 div.sk-estimator {font-family: monospace;background-color: #f0f8ff;border: 1px dotted black;border-radius: 0.25em;box-sizing: border-box;margin-bottom: 0.5em;}#sk-container-id-1 div.sk-estimator:hover {background-color: #d4ebff;}#sk-container-id-1 div.sk-parallel-item::after {content: \"\";width: 100%;border-bottom: 1px solid gray;flex-grow: 1;}#sk-container-id-1 div.sk-label:hover label.sk-toggleable__label {background-color: #d4ebff;}#sk-container-id-1 div.sk-serial::before {content: \"\";position: absolute;border-left: 1px solid gray;box-sizing: border-box;top: 0;bottom: 0;left: 50%;z-index: 0;}#sk-container-id-1 div.sk-serial {display: flex;flex-direction: column;align-items: center;background-color: white;padding-right: 0.2em;padding-left: 0.2em;position: relative;}#sk-container-id-1 div.sk-item {position: relative;z-index: 1;}#sk-container-id-1 div.sk-parallel {display: flex;align-items: stretch;justify-content: center;background-color: white;position: relative;}#sk-container-id-1 div.sk-item::before, #sk-container-id-1 div.sk-parallel-item::before {content: \"\";position: absolute;border-left: 1px solid gray;box-sizing: border-box;top: 0;bottom: 0;left: 50%;z-index: -1;}#sk-container-id-1 div.sk-parallel-item {display: flex;flex-direction: column;z-index: 1;position: relative;background-color: white;}#sk-container-id-1 div.sk-parallel-item:first-child::after {align-self: flex-end;width: 50%;}#sk-container-id-1 div.sk-parallel-item:last-child::after {align-self: flex-start;width: 50%;}#sk-container-id-1 div.sk-parallel-item:only-child::after {width: 0;}#sk-container-id-1 div.sk-dashed-wrapped {border: 1px dashed gray;margin: 0 0.4em 0.5em 0.4em;box-sizing: border-box;padding-bottom: 0.4em;background-color: white;}#sk-container-id-1 div.sk-label label {font-family: monospace;font-weight: bold;display: inline-block;line-height: 1.2em;}#sk-container-id-1 div.sk-label-container {text-align: center;}#sk-container-id-1 div.sk-container {/* jupyter's `normalize.less` sets `[hidden] { display: none; }` but bootstrap.min.css set `[hidden] { display: none !important; }` so we also need the `!important` here to be able to override the default hidden behavior on the sphinx rendered scikit-learn.org. See: https://github.com/scikit-learn/scikit-learn/issues/21755 */display: inline-block !important;position: relative;}#sk-container-id-1 div.sk-text-repr-fallback {display: none;}</style><div id=\"sk-container-id-1\" class=\"sk-top-container\"><div class=\"sk-text-repr-fallback\"><pre>RandomForestRegressor()</pre><b>In a Jupyter environment, please rerun this cell to show the HTML representation or trust the notebook. <br />On GitHub, the HTML representation is unable to render, please try loading this page with nbviewer.org.</b></div><div class=\"sk-container\" hidden><div class=\"sk-item\"><div class=\"sk-estimator sk-toggleable\"><input class=\"sk-toggleable__control sk-hidden--visually\" id=\"sk-estimator-id-1\" type=\"checkbox\" checked><label for=\"sk-estimator-id-1\" class=\"sk-toggleable__label sk-toggleable__label-arrow\">RandomForestRegressor</label><div class=\"sk-toggleable__content\"><pre>RandomForestRegressor()</pre></div></div></div></div></div>"
      ],
      "text/plain": [
       "RandomForestRegressor()"
      ]
     },
     "execution_count": 25,
     "metadata": {},
     "output_type": "execute_result"
    }
   ],
   "source": [
    "# Innitializing Random Forest Regressor\n",
    "rf_model = RandomForestRegressor()\n",
    "\n",
    "# Fitting data/Training model\n",
    "rf_model.fit(X_train, y_train)"
   ]
  },
  {
   "cell_type": "code",
   "execution_count": 26,
   "id": "028ad0fc",
   "metadata": {
    "execution": {
     "iopub.execute_input": "2025-01-26T12:00:38.256158Z",
     "iopub.status.busy": "2025-01-26T12:00:38.255757Z",
     "iopub.status.idle": "2025-01-26T12:00:39.197528Z",
     "shell.execute_reply": "2025-01-26T12:00:39.196600Z"
    },
    "papermill": {
     "duration": 0.956376,
     "end_time": "2025-01-26T12:00:39.199343",
     "exception": false,
     "start_time": "2025-01-26T12:00:38.242967",
     "status": "completed"
    },
    "tags": []
   },
   "outputs": [],
   "source": [
    "# Prediction\n",
    "y_pred = rf_model.predict(X_test)"
   ]
  },
  {
   "cell_type": "code",
   "execution_count": 27,
   "id": "90254f29",
   "metadata": {
    "execution": {
     "iopub.execute_input": "2025-01-26T12:00:39.224189Z",
     "iopub.status.busy": "2025-01-26T12:00:39.223845Z",
     "iopub.status.idle": "2025-01-26T12:00:39.232014Z",
     "shell.execute_reply": "2025-01-26T12:00:39.230838Z"
    },
    "papermill": {
     "duration": 0.023088,
     "end_time": "2025-01-26T12:00:39.233963",
     "exception": false,
     "start_time": "2025-01-26T12:00:39.210875",
     "status": "completed"
    },
    "tags": []
   },
   "outputs": [
    {
     "data": {
      "text/plain": [
       "array([[ 706.],\n",
       "       [ 634.],\n",
       "       [ 316.],\n",
       "       ...,\n",
       "       [2299.],\n",
       "       [1242.],\n",
       "       [1622.]])"
      ]
     },
     "execution_count": 27,
     "metadata": {},
     "output_type": "execute_result"
    }
   ],
   "source": [
    "y_pred = y_scaler.inverse_transform(y_pred.reshape(-1, 1))\n",
    "y_pred\n",
    "y_test = y_scaler.inverse_transform(y_test.reshape(-1, 1))\n",
    "y_test"
   ]
  },
  {
   "cell_type": "code",
   "execution_count": 28,
   "id": "a2544bda",
   "metadata": {
    "execution": {
     "iopub.execute_input": "2025-01-26T12:00:39.258616Z",
     "iopub.status.busy": "2025-01-26T12:00:39.258201Z",
     "iopub.status.idle": "2025-01-26T12:00:39.270241Z",
     "shell.execute_reply": "2025-01-26T12:00:39.268907Z"
    },
    "papermill": {
     "duration": 0.026316,
     "end_time": "2025-01-26T12:00:39.272124",
     "exception": false,
     "start_time": "2025-01-26T12:00:39.245808",
     "status": "completed"
    },
    "tags": []
   },
   "outputs": [
    {
     "name": "stdout",
     "output_type": "stream",
     "text": [
      "Accuracy of the model is: 0.974317667264714\n",
      "Mean-Absolute-Percentage_error of the model is: 0.07470096137158651\n"
     ]
    }
   ],
   "source": [
    "# Scoring\n",
    "\n",
    "# R2 score\n",
    "r2score = r2_score(y_pred, y_test)\n",
    "print(f'Accuracy of the model is: {r2score}')\n",
    "\n",
    "# Mean Absolute Percentage Error\n",
    "mape = mean_absolute_percentage_error(y_pred, y_test)\n",
    "print(f'Mean-Absolute-Percentage_error of the model is: {mape}')"
   ]
  },
  {
   "cell_type": "markdown",
   "id": "40129f37",
   "metadata": {
    "papermill": {
     "duration": 0.011494,
     "end_time": "2025-01-26T12:00:39.295747",
     "exception": false,
     "start_time": "2025-01-26T12:00:39.284253",
     "status": "completed"
    },
    "tags": []
   },
   "source": [
    "### Preiction on competitions test set"
   ]
  },
  {
   "cell_type": "code",
   "execution_count": 29,
   "id": "b3485659",
   "metadata": {
    "execution": {
     "iopub.execute_input": "2025-01-26T12:00:39.320420Z",
     "iopub.status.busy": "2025-01-26T12:00:39.320065Z",
     "iopub.status.idle": "2025-01-26T12:00:39.462320Z",
     "shell.execute_reply": "2025-01-26T12:00:39.461282Z"
    },
    "papermill": {
     "duration": 0.156598,
     "end_time": "2025-01-26T12:00:39.464027",
     "exception": false,
     "start_time": "2025-01-26T12:00:39.307429",
     "status": "completed"
    },
    "tags": []
   },
   "outputs": [
    {
     "data": {
      "text/html": [
       "<div>\n",
       "<style scoped>\n",
       "    .dataframe tbody tr th:only-of-type {\n",
       "        vertical-align: middle;\n",
       "    }\n",
       "\n",
       "    .dataframe tbody tr th {\n",
       "        vertical-align: top;\n",
       "    }\n",
       "\n",
       "    .dataframe thead th {\n",
       "        text-align: right;\n",
       "    }\n",
       "</style>\n",
       "<table border=\"1\" class=\"dataframe\">\n",
       "  <thead>\n",
       "    <tr style=\"text-align: right;\">\n",
       "      <th></th>\n",
       "      <th>id</th>\n",
       "      <th>date</th>\n",
       "      <th>country</th>\n",
       "      <th>store</th>\n",
       "      <th>product</th>\n",
       "    </tr>\n",
       "  </thead>\n",
       "  <tbody>\n",
       "    <tr>\n",
       "      <th>0</th>\n",
       "      <td>230130</td>\n",
       "      <td>2017-01-01</td>\n",
       "      <td>Canada</td>\n",
       "      <td>Discount Stickers</td>\n",
       "      <td>Holographic Goose</td>\n",
       "    </tr>\n",
       "    <tr>\n",
       "      <th>1</th>\n",
       "      <td>230131</td>\n",
       "      <td>2017-01-01</td>\n",
       "      <td>Canada</td>\n",
       "      <td>Discount Stickers</td>\n",
       "      <td>Kaggle</td>\n",
       "    </tr>\n",
       "    <tr>\n",
       "      <th>2</th>\n",
       "      <td>230132</td>\n",
       "      <td>2017-01-01</td>\n",
       "      <td>Canada</td>\n",
       "      <td>Discount Stickers</td>\n",
       "      <td>Kaggle Tiers</td>\n",
       "    </tr>\n",
       "    <tr>\n",
       "      <th>3</th>\n",
       "      <td>230133</td>\n",
       "      <td>2017-01-01</td>\n",
       "      <td>Canada</td>\n",
       "      <td>Discount Stickers</td>\n",
       "      <td>Kerneler</td>\n",
       "    </tr>\n",
       "    <tr>\n",
       "      <th>4</th>\n",
       "      <td>230134</td>\n",
       "      <td>2017-01-01</td>\n",
       "      <td>Canada</td>\n",
       "      <td>Discount Stickers</td>\n",
       "      <td>Kerneler Dark Mode</td>\n",
       "    </tr>\n",
       "  </tbody>\n",
       "</table>\n",
       "</div>"
      ],
      "text/plain": [
       "       id        date country              store             product\n",
       "0  230130  2017-01-01  Canada  Discount Stickers   Holographic Goose\n",
       "1  230131  2017-01-01  Canada  Discount Stickers              Kaggle\n",
       "2  230132  2017-01-01  Canada  Discount Stickers        Kaggle Tiers\n",
       "3  230133  2017-01-01  Canada  Discount Stickers            Kerneler\n",
       "4  230134  2017-01-01  Canada  Discount Stickers  Kerneler Dark Mode"
      ]
     },
     "execution_count": 29,
     "metadata": {},
     "output_type": "execute_result"
    }
   ],
   "source": [
    "# Reading the Kaggle provided test set\n",
    "validation_set = pd.read_csv(\"/kaggle/input/playground-series-s5e1/test.csv\")\n",
    "validation_set.head()"
   ]
  },
  {
   "cell_type": "code",
   "execution_count": 30,
   "id": "869320ef",
   "metadata": {
    "execution": {
     "iopub.execute_input": "2025-01-26T12:00:39.489594Z",
     "iopub.status.busy": "2025-01-26T12:00:39.489182Z",
     "iopub.status.idle": "2025-01-26T12:00:39.503609Z",
     "shell.execute_reply": "2025-01-26T12:00:39.502400Z"
    },
    "papermill": {
     "duration": 0.029513,
     "end_time": "2025-01-26T12:00:39.505540",
     "exception": false,
     "start_time": "2025-01-26T12:00:39.476027",
     "status": "completed"
    },
    "tags": []
   },
   "outputs": [
    {
     "data": {
      "text/html": [
       "<div>\n",
       "<style scoped>\n",
       "    .dataframe tbody tr th:only-of-type {\n",
       "        vertical-align: middle;\n",
       "    }\n",
       "\n",
       "    .dataframe tbody tr th {\n",
       "        vertical-align: top;\n",
       "    }\n",
       "\n",
       "    .dataframe thead th {\n",
       "        text-align: right;\n",
       "    }\n",
       "</style>\n",
       "<table border=\"1\" class=\"dataframe\">\n",
       "  <thead>\n",
       "    <tr style=\"text-align: right;\">\n",
       "      <th></th>\n",
       "      <th>id</th>\n",
       "      <th>date</th>\n",
       "      <th>country</th>\n",
       "      <th>store</th>\n",
       "      <th>product</th>\n",
       "    </tr>\n",
       "  </thead>\n",
       "  <tbody>\n",
       "    <tr>\n",
       "      <th>0</th>\n",
       "      <td>230130</td>\n",
       "      <td>2017-01-01</td>\n",
       "      <td>Canada</td>\n",
       "      <td>Discount Stickers</td>\n",
       "      <td>Holographic Goose</td>\n",
       "    </tr>\n",
       "    <tr>\n",
       "      <th>1</th>\n",
       "      <td>230131</td>\n",
       "      <td>2017-01-01</td>\n",
       "      <td>Canada</td>\n",
       "      <td>Discount Stickers</td>\n",
       "      <td>Kaggle</td>\n",
       "    </tr>\n",
       "    <tr>\n",
       "      <th>2</th>\n",
       "      <td>230132</td>\n",
       "      <td>2017-01-01</td>\n",
       "      <td>Canada</td>\n",
       "      <td>Discount Stickers</td>\n",
       "      <td>Kaggle Tiers</td>\n",
       "    </tr>\n",
       "    <tr>\n",
       "      <th>3</th>\n",
       "      <td>230133</td>\n",
       "      <td>2017-01-01</td>\n",
       "      <td>Canada</td>\n",
       "      <td>Discount Stickers</td>\n",
       "      <td>Kerneler</td>\n",
       "    </tr>\n",
       "    <tr>\n",
       "      <th>4</th>\n",
       "      <td>230134</td>\n",
       "      <td>2017-01-01</td>\n",
       "      <td>Canada</td>\n",
       "      <td>Discount Stickers</td>\n",
       "      <td>Kerneler Dark Mode</td>\n",
       "    </tr>\n",
       "    <tr>\n",
       "      <th>...</th>\n",
       "      <td>...</td>\n",
       "      <td>...</td>\n",
       "      <td>...</td>\n",
       "      <td>...</td>\n",
       "      <td>...</td>\n",
       "    </tr>\n",
       "    <tr>\n",
       "      <th>98545</th>\n",
       "      <td>328675</td>\n",
       "      <td>2019-12-31</td>\n",
       "      <td>Singapore</td>\n",
       "      <td>Premium Sticker Mart</td>\n",
       "      <td>Holographic Goose</td>\n",
       "    </tr>\n",
       "    <tr>\n",
       "      <th>98546</th>\n",
       "      <td>328676</td>\n",
       "      <td>2019-12-31</td>\n",
       "      <td>Singapore</td>\n",
       "      <td>Premium Sticker Mart</td>\n",
       "      <td>Kaggle</td>\n",
       "    </tr>\n",
       "    <tr>\n",
       "      <th>98547</th>\n",
       "      <td>328677</td>\n",
       "      <td>2019-12-31</td>\n",
       "      <td>Singapore</td>\n",
       "      <td>Premium Sticker Mart</td>\n",
       "      <td>Kaggle Tiers</td>\n",
       "    </tr>\n",
       "    <tr>\n",
       "      <th>98548</th>\n",
       "      <td>328678</td>\n",
       "      <td>2019-12-31</td>\n",
       "      <td>Singapore</td>\n",
       "      <td>Premium Sticker Mart</td>\n",
       "      <td>Kerneler</td>\n",
       "    </tr>\n",
       "    <tr>\n",
       "      <th>98549</th>\n",
       "      <td>328679</td>\n",
       "      <td>2019-12-31</td>\n",
       "      <td>Singapore</td>\n",
       "      <td>Premium Sticker Mart</td>\n",
       "      <td>Kerneler Dark Mode</td>\n",
       "    </tr>\n",
       "  </tbody>\n",
       "</table>\n",
       "<p>98550 rows × 5 columns</p>\n",
       "</div>"
      ],
      "text/plain": [
       "           id        date    country                 store             product\n",
       "0      230130  2017-01-01     Canada     Discount Stickers   Holographic Goose\n",
       "1      230131  2017-01-01     Canada     Discount Stickers              Kaggle\n",
       "2      230132  2017-01-01     Canada     Discount Stickers        Kaggle Tiers\n",
       "3      230133  2017-01-01     Canada     Discount Stickers            Kerneler\n",
       "4      230134  2017-01-01     Canada     Discount Stickers  Kerneler Dark Mode\n",
       "...       ...         ...        ...                   ...                 ...\n",
       "98545  328675  2019-12-31  Singapore  Premium Sticker Mart   Holographic Goose\n",
       "98546  328676  2019-12-31  Singapore  Premium Sticker Mart              Kaggle\n",
       "98547  328677  2019-12-31  Singapore  Premium Sticker Mart        Kaggle Tiers\n",
       "98548  328678  2019-12-31  Singapore  Premium Sticker Mart            Kerneler\n",
       "98549  328679  2019-12-31  Singapore  Premium Sticker Mart  Kerneler Dark Mode\n",
       "\n",
       "[98550 rows x 5 columns]"
      ]
     },
     "execution_count": 30,
     "metadata": {},
     "output_type": "execute_result"
    }
   ],
   "source": [
    "# Making a copy for preprocessing\n",
    "val_set_copy = validation_set.copy()\n",
    "val_set_copy"
   ]
  },
  {
   "cell_type": "code",
   "execution_count": 31,
   "id": "63a83573",
   "metadata": {
    "execution": {
     "iopub.execute_input": "2025-01-26T12:00:39.531718Z",
     "iopub.status.busy": "2025-01-26T12:00:39.531273Z",
     "iopub.status.idle": "2025-01-26T12:00:39.537539Z",
     "shell.execute_reply": "2025-01-26T12:00:39.536246Z"
    },
    "papermill": {
     "duration": 0.021263,
     "end_time": "2025-01-26T12:00:39.539333",
     "exception": false,
     "start_time": "2025-01-26T12:00:39.518070",
     "status": "completed"
    },
    "tags": []
   },
   "outputs": [],
   "source": [
    "# Creating a function for preprocessing\n",
    "def preprocessing(df):\n",
    "    df = df.drop('id', axis=1)\n",
    "    df['date'] = pd.to_datetime(df['date'])\n",
    "    df['day'] = df['date'].dt.day\n",
    "    df['month'] = df['date'].dt.month\n",
    "    df['year'] = df['date'].dt.year\n",
    "    df['weekday'] = df['date'].dt.weekday\n",
    "    df = df.drop('date', axis=1)\n",
    "    df = encode_column(df, 'country') # Country column\n",
    "    df = encode_column(df, 'store')   # Store column\n",
    "    df = encode_column(df, 'product') # Product column\n",
    "    df = x_scaler.transform(df)\n",
    "    return df   "
   ]
  },
  {
   "cell_type": "code",
   "execution_count": 32,
   "id": "83c568ee",
   "metadata": {
    "execution": {
     "iopub.execute_input": "2025-01-26T12:00:39.564953Z",
     "iopub.status.busy": "2025-01-26T12:00:39.564484Z",
     "iopub.status.idle": "2025-01-26T12:00:39.699236Z",
     "shell.execute_reply": "2025-01-26T12:00:39.697961Z"
    },
    "papermill": {
     "duration": 0.149678,
     "end_time": "2025-01-26T12:00:39.701408",
     "exception": false,
     "start_time": "2025-01-26T12:00:39.551730",
     "status": "completed"
    },
    "tags": []
   },
   "outputs": [],
   "source": [
    "# Preprocessing the datast copy\n",
    "val_set_copy = preprocessing(val_set_copy)"
   ]
  },
  {
   "cell_type": "code",
   "execution_count": 33,
   "id": "2819c030",
   "metadata": {
    "execution": {
     "iopub.execute_input": "2025-01-26T12:00:39.730098Z",
     "iopub.status.busy": "2025-01-26T12:00:39.729666Z",
     "iopub.status.idle": "2025-01-26T12:00:42.568253Z",
     "shell.execute_reply": "2025-01-26T12:00:42.567004Z"
    },
    "papermill": {
     "duration": 2.853759,
     "end_time": "2025-01-26T12:00:42.570147",
     "exception": false,
     "start_time": "2025-01-26T12:00:39.716388",
     "status": "completed"
    },
    "tags": []
   },
   "outputs": [
    {
     "data": {
      "text/plain": [
       "array([[ 147.79],\n",
       "       [ 784.89],\n",
       "       [ 611.47],\n",
       "       ...,\n",
       "       [2042.38],\n",
       "       [1079.69],\n",
       "       [1209.13]])"
      ]
     },
     "execution_count": 33,
     "metadata": {},
     "output_type": "execute_result"
    }
   ],
   "source": [
    "# Making predictions\n",
    "val_pred = rf_model.predict(val_set_copy)\n",
    "\n",
    "# Inverse transforming\n",
    "val_pred = y_scaler.inverse_transform(val_pred.reshape(-1, 1))\n",
    "val_pred"
   ]
  },
  {
   "cell_type": "code",
   "execution_count": 34,
   "id": "2d4343c0",
   "metadata": {
    "execution": {
     "iopub.execute_input": "2025-01-26T12:00:42.595945Z",
     "iopub.status.busy": "2025-01-26T12:00:42.595589Z",
     "iopub.status.idle": "2025-01-26T12:00:42.600558Z",
     "shell.execute_reply": "2025-01-26T12:00:42.599182Z"
    },
    "papermill": {
     "duration": 0.020118,
     "end_time": "2025-01-26T12:00:42.602547",
     "exception": false,
     "start_time": "2025-01-26T12:00:42.582429",
     "status": "completed"
    },
    "tags": []
   },
   "outputs": [],
   "source": [
    "# Converting into series to concat into validation dataset\n",
    "val_pred = pd.Series(val_pred.flatten())"
   ]
  },
  {
   "cell_type": "code",
   "execution_count": 35,
   "id": "988ba645",
   "metadata": {
    "execution": {
     "iopub.execute_input": "2025-01-26T12:00:42.628419Z",
     "iopub.status.busy": "2025-01-26T12:00:42.628061Z",
     "iopub.status.idle": "2025-01-26T12:00:42.635734Z",
     "shell.execute_reply": "2025-01-26T12:00:42.634470Z"
    },
    "papermill": {
     "duration": 0.022761,
     "end_time": "2025-01-26T12:00:42.637740",
     "exception": false,
     "start_time": "2025-01-26T12:00:42.614979",
     "status": "completed"
    },
    "tags": []
   },
   "outputs": [],
   "source": [
    "# Creating a submission set\n",
    "submission_set = pd.concat([validation_set, val_pred], axis=1)"
   ]
  },
  {
   "cell_type": "code",
   "execution_count": 36,
   "id": "1d459630",
   "metadata": {
    "execution": {
     "iopub.execute_input": "2025-01-26T12:00:42.663421Z",
     "iopub.status.busy": "2025-01-26T12:00:42.663074Z",
     "iopub.status.idle": "2025-01-26T12:00:42.670227Z",
     "shell.execute_reply": "2025-01-26T12:00:42.669110Z"
    },
    "papermill": {
     "duration": 0.022176,
     "end_time": "2025-01-26T12:00:42.672176",
     "exception": false,
     "start_time": "2025-01-26T12:00:42.650000",
     "status": "completed"
    },
    "tags": []
   },
   "outputs": [],
   "source": [
    "# Dropping irrelevent columns\n",
    "submission_set = submission_set.drop(['date', 'country', 'store', 'product'], axis=1)"
   ]
  },
  {
   "cell_type": "code",
   "execution_count": 37,
   "id": "14556b4e",
   "metadata": {
    "execution": {
     "iopub.execute_input": "2025-01-26T12:00:42.701217Z",
     "iopub.status.busy": "2025-01-26T12:00:42.700845Z",
     "iopub.status.idle": "2025-01-26T12:00:42.713910Z",
     "shell.execute_reply": "2025-01-26T12:00:42.712405Z"
    },
    "papermill": {
     "duration": 0.029738,
     "end_time": "2025-01-26T12:00:42.715764",
     "exception": false,
     "start_time": "2025-01-26T12:00:42.686026",
     "status": "completed"
    },
    "tags": []
   },
   "outputs": [
    {
     "data": {
      "text/html": [
       "<div>\n",
       "<style scoped>\n",
       "    .dataframe tbody tr th:only-of-type {\n",
       "        vertical-align: middle;\n",
       "    }\n",
       "\n",
       "    .dataframe tbody tr th {\n",
       "        vertical-align: top;\n",
       "    }\n",
       "\n",
       "    .dataframe thead th {\n",
       "        text-align: right;\n",
       "    }\n",
       "</style>\n",
       "<table border=\"1\" class=\"dataframe\">\n",
       "  <thead>\n",
       "    <tr style=\"text-align: right;\">\n",
       "      <th></th>\n",
       "      <th>id</th>\n",
       "      <th>0</th>\n",
       "    </tr>\n",
       "  </thead>\n",
       "  <tbody>\n",
       "    <tr>\n",
       "      <th>0</th>\n",
       "      <td>230130</td>\n",
       "      <td>147.79</td>\n",
       "    </tr>\n",
       "    <tr>\n",
       "      <th>1</th>\n",
       "      <td>230131</td>\n",
       "      <td>784.89</td>\n",
       "    </tr>\n",
       "    <tr>\n",
       "      <th>2</th>\n",
       "      <td>230132</td>\n",
       "      <td>611.47</td>\n",
       "    </tr>\n",
       "    <tr>\n",
       "      <th>3</th>\n",
       "      <td>230133</td>\n",
       "      <td>357.81</td>\n",
       "    </tr>\n",
       "    <tr>\n",
       "      <th>4</th>\n",
       "      <td>230134</td>\n",
       "      <td>421.11</td>\n",
       "    </tr>\n",
       "    <tr>\n",
       "      <th>...</th>\n",
       "      <td>...</td>\n",
       "      <td>...</td>\n",
       "    </tr>\n",
       "    <tr>\n",
       "      <th>98545</th>\n",
       "      <td>328675</td>\n",
       "      <td>366.13</td>\n",
       "    </tr>\n",
       "    <tr>\n",
       "      <th>98546</th>\n",
       "      <td>328676</td>\n",
       "      <td>2316.17</td>\n",
       "    </tr>\n",
       "    <tr>\n",
       "      <th>98547</th>\n",
       "      <td>328677</td>\n",
       "      <td>2042.38</td>\n",
       "    </tr>\n",
       "    <tr>\n",
       "      <th>98548</th>\n",
       "      <td>328678</td>\n",
       "      <td>1079.69</td>\n",
       "    </tr>\n",
       "    <tr>\n",
       "      <th>98549</th>\n",
       "      <td>328679</td>\n",
       "      <td>1209.13</td>\n",
       "    </tr>\n",
       "  </tbody>\n",
       "</table>\n",
       "<p>98550 rows × 2 columns</p>\n",
       "</div>"
      ],
      "text/plain": [
       "           id        0\n",
       "0      230130   147.79\n",
       "1      230131   784.89\n",
       "2      230132   611.47\n",
       "3      230133   357.81\n",
       "4      230134   421.11\n",
       "...       ...      ...\n",
       "98545  328675   366.13\n",
       "98546  328676  2316.17\n",
       "98547  328677  2042.38\n",
       "98548  328678  1079.69\n",
       "98549  328679  1209.13\n",
       "\n",
       "[98550 rows x 2 columns]"
      ]
     },
     "execution_count": 37,
     "metadata": {},
     "output_type": "execute_result"
    }
   ],
   "source": [
    "# Finally how it looks\n",
    "submission_set"
   ]
  },
  {
   "cell_type": "code",
   "execution_count": 38,
   "id": "50e19f51",
   "metadata": {
    "execution": {
     "iopub.execute_input": "2025-01-26T12:00:42.745547Z",
     "iopub.status.busy": "2025-01-26T12:00:42.745154Z",
     "iopub.status.idle": "2025-01-26T12:00:42.940657Z",
     "shell.execute_reply": "2025-01-26T12:00:42.939321Z"
    },
    "papermill": {
     "duration": 0.212134,
     "end_time": "2025-01-26T12:00:42.942931",
     "exception": false,
     "start_time": "2025-01-26T12:00:42.730797",
     "status": "completed"
    },
    "tags": []
   },
   "outputs": [],
   "source": [
    "# Writing to a csv\n",
    "submission_set.to_csv('submission.csv', index=False)"
   ]
  },
  {
   "cell_type": "code",
   "execution_count": null,
   "id": "409e2e65",
   "metadata": {
    "papermill": {
     "duration": 0.012107,
     "end_time": "2025-01-26T12:00:43.026196",
     "exception": false,
     "start_time": "2025-01-26T12:00:43.014089",
     "status": "completed"
    },
    "tags": []
   },
   "outputs": [],
   "source": []
  }
 ],
 "metadata": {
  "kaggle": {
   "accelerator": "none",
   "dataSources": [
    {
     "databundleVersionId": 10652996,
     "sourceId": 85723,
     "sourceType": "competition"
    }
   ],
   "dockerImageVersionId": 30839,
   "isGpuEnabled": false,
   "isInternetEnabled": true,
   "language": "python",
   "sourceType": "notebook"
  },
  "kernelspec": {
   "display_name": "Python 3",
   "language": "python",
   "name": "python3"
  },
  "language_info": {
   "codemirror_mode": {
    "name": "ipython",
    "version": 3
   },
   "file_extension": ".py",
   "mimetype": "text/x-python",
   "name": "python",
   "nbconvert_exporter": "python",
   "pygments_lexer": "ipython3",
   "version": "3.10.12"
  },
  "papermill": {
   "default_parameters": {},
   "duration": 71.885868,
   "end_time": "2025-01-26T12:00:43.960181",
   "environment_variables": {},
   "exception": null,
   "input_path": "__notebook__.ipynb",
   "output_path": "__notebook__.ipynb",
   "parameters": {},
   "start_time": "2025-01-26T11:59:32.074313",
   "version": "2.6.0"
  }
 },
 "nbformat": 4,
 "nbformat_minor": 5
}
